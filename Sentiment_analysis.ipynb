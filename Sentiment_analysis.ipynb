{
 "metadata": {
  "language_info": {
   "codemirror_mode": {
    "name": "ipython",
    "version": 3
   },
   "file_extension": ".py",
   "mimetype": "text/x-python",
   "name": "python",
   "nbconvert_exporter": "python",
   "pygments_lexer": "ipython3",
   "version": "3.8.5-final"
  },
  "orig_nbformat": 2,
  "kernelspec": {
   "name": "python3",
   "display_name": "Python 3",
   "language": "python"
  }
 },
 "nbformat": 4,
 "nbformat_minor": 2,
 "cells": [
  {
   "cell_type": "code",
   "execution_count": 1,
   "metadata": {},
   "outputs": [],
   "source": [
    "import pandas as pd\n",
    "import matplotlib.pyplot as plt \n",
    "\n",
    "from sklearn.feature_extraction.text import CountVectorizer\n",
    "from sklearn.model_selection import train_test_split\n",
    "from sklearn.linear_model import LogisticRegression\n",
    "\n",
    "from keras import Sequential\n",
    "from keras.layers import Input, Dense\n",
    "from keras.backend import clear_session"
   ]
  },
  {
   "cell_type": "code",
   "execution_count": 103,
   "metadata": {},
   "outputs": [],
   "source": [
    "filepath_dict = {'yelp':   'sentiment-analysis/yelp_labelled.txt',\n",
    "                 'amazon': 'sentiment-analysis/amazon_cells_labelled.txt',\n",
    "                 'imdb':   'sentiment-analysis/imdb_labelled.txt'}\n",
    "\n",
    "df_list = []\n",
    "for source, filepath in filepath_dict.items():\n",
    "    df = pd.read_csv(filepath, names=['sentence', 'label'], sep='\\t')\n",
    "    df['source'] = source  # Add another column filled with the source name\n",
    "    df_list.append(df)\n",
    "\n",
    "df = pd.concat(df_list)"
   ]
  },
  {
   "cell_type": "code",
   "execution_count": 9,
   "metadata": {},
   "outputs": [],
   "source": [
    "sentences = ['John likes ice cream', 'John hates chocolate.']"
   ]
  },
  {
   "cell_type": "code",
   "execution_count": 16,
   "metadata": {},
   "outputs": [
    {
     "output_type": "execute_result",
     "data": {
      "text/plain": [
       "{'John': 0, 'likes': 5, 'ice': 4, 'cream': 2, 'hates': 3, 'chocolate': 1}"
      ]
     },
     "metadata": {},
     "execution_count": 16
    }
   ],
   "source": [
    "vectorizer = CountVectorizer(min_df=0, lowercase=False)\n",
    "vectorizer.fit(sentences)\n",
    "vectorizer.vocabulary_"
   ]
  },
  {
   "cell_type": "code",
   "execution_count": 18,
   "metadata": {},
   "outputs": [
    {
     "output_type": "execute_result",
     "data": {
      "text/plain": [
       "array([[1, 0, 1, 0, 1, 1],\n",
       "       [1, 1, 0, 1, 0, 0]], dtype=int64)"
      ]
     },
     "metadata": {},
     "execution_count": 18
    }
   ],
   "source": [
    "vectorizer.transform(sentences).toarray()"
   ]
  },
  {
   "cell_type": "code",
   "execution_count": 87,
   "metadata": {},
   "outputs": [],
   "source": [
    "df_yelp = df[df['source']=='yelp']\n",
    "sentences = df_yelp['sentence'].values\n",
    "labels = df_yelp['label'].values\n",
    "X_train_yelp, X_test_yelp, y_train_yelp, y_test_yelp = train_test_split(sentences, labels, test_size=0.25, random_state=42)"
   ]
  },
  {
   "cell_type": "code",
   "execution_count": 41,
   "metadata": {},
   "outputs": [
    {
     "output_type": "execute_result",
     "data": {
      "text/plain": [
       "<750x1728 sparse matrix of type '<class 'numpy.int64'>'\n",
       "\twith 7387 stored elements in Compressed Sparse Row format>"
      ]
     },
     "metadata": {},
     "execution_count": 41
    }
   ],
   "source": [
    "X_train"
   ]
  },
  {
   "cell_type": "code",
   "execution_count": 88,
   "metadata": {},
   "outputs": [],
   "source": [
    "vectorizer = CountVectorizer()\n",
    "vectorizer.fit(X_train_yelp)\n",
    "\n",
    "X_train_yelp = vectorizer.transform(X_train_yelp)\n",
    "X_test_yelp = vectorizer.transform(X_test_yelp)"
   ]
  },
  {
   "cell_type": "code",
   "execution_count": 44,
   "metadata": {},
   "outputs": [
    {
     "output_type": "stream",
     "name": "stdout",
     "text": [
      "0.816\n"
     ]
    }
   ],
   "source": [
    "classifier = LogisticRegression()\n",
    "classifier.fit(X_train_yelp, y_train_yelp)\n",
    "\n",
    "print(classifier.score(X_test_yelp, y_test_yelp))"
   ]
  },
  {
   "cell_type": "code",
   "execution_count": 89,
   "metadata": {},
   "outputs": [
    {
     "output_type": "stream",
     "name": "stdout",
     "text": [
      "yelp      : 0.816\namazon    : 0.844\nimdb      : 0.727\n"
     ]
    }
   ],
   "source": [
    "for source in df['source'].unique():\n",
    "\n",
    "    df_source = df[df['source']==source]\n",
    "    sentences = df_source['sentence'].values\n",
    "    labels = df_source['label'].values\n",
    "\n",
    "    X_train, X_test, y_train, y_test = train_test_split(sentences, labels, test_size=0.25, random_state=42)\n",
    "\n",
    "    vectorizer = CountVectorizer()\n",
    "    vectorizer.fit(X_train)\n",
    "\n",
    "    X_train = vectorizer.transform(X_train)\n",
    "    X_test = vectorizer.transform(X_test)\n",
    "\n",
    "    classifier = LogisticRegression()\n",
    "    classifier.fit(X_train, y_train)\n",
    "\n",
    "    print(f'{source:10s}: {classifier.score(X_test, y_test):.3f}')"
   ]
  },
  {
   "cell_type": "code",
   "execution_count": 104,
   "metadata": {},
   "outputs": [],
   "source": [
    "df_source = df[df['source']=='yelp']\n",
    "sentences = df_source['sentence'].values\n",
    "labels = df_source['label'].values\n",
    "X_train, X_test, y_train, y_test = train_test_split(sentences, labels, test_size=0.25, random_state=42)\n",
    "\n",
    "vectorizer = CountVectorizer()\n",
    "vectorizer.fit(X_train)\n",
    "\n",
    "X_train = vectorizer.transform(X_train)\n",
    "X_test = vectorizer.transform(X_test)"
   ]
  },
  {
   "cell_type": "code",
   "execution_count": 105,
   "metadata": {},
   "outputs": [
    {
     "output_type": "stream",
     "name": "stdout",
     "text": [
      "Model: \"sequential\"\n_________________________________________________________________\nLayer (type)                 Output Shape              Param #   \n=================================================================\ndense (Dense)                (None, 10)                17290     \n_________________________________________________________________\ndense_1 (Dense)              (None, 1)                 11        \n=================================================================\nTotal params: 17,301\nTrainable params: 17,301\nNon-trainable params: 0\n_________________________________________________________________\n"
     ]
    }
   ],
   "source": [
    "model = Sequential(\n",
    "    [\n",
    "        Input(shape=(X_train.shape[1],), name='input_text'),\n",
    "        Dense(10, activation='relu'),\n",
    "        Dense(1, activation='sigmoid')\n",
    "    ]\n",
    ")\n",
    "model.compile(\n",
    "    loss='binary_crossentropy',\n",
    "    optimizer='adam',\n",
    "    metrics=['accuracy'])\n",
    "\n",
    "model.summary()"
   ]
  },
  {
   "cell_type": "code",
   "execution_count": 106,
   "metadata": {},
   "outputs": [
    {
     "output_type": "stream",
     "name": "stdout",
     "text": [
      "Epoch 1/100\n",
      "75/75 - 1s - loss: 0.6827 - accuracy: 0.5747 - val_loss: 0.6680 - val_accuracy: 0.7240\n",
      "Epoch 2/100\n",
      "75/75 - 0s - loss: 0.6155 - accuracy: 0.8053 - val_loss: 0.6241 - val_accuracy: 0.7480\n",
      "Epoch 3/100\n",
      "75/75 - 0s - loss: 0.5158 - accuracy: 0.8827 - val_loss: 0.5705 - val_accuracy: 0.7680\n",
      "Epoch 4/100\n",
      "75/75 - 0s - loss: 0.4117 - accuracy: 0.9240 - val_loss: 0.5235 - val_accuracy: 0.8000\n",
      "Epoch 5/100\n",
      "75/75 - 0s - loss: 0.3242 - accuracy: 0.9480 - val_loss: 0.4870 - val_accuracy: 0.8160\n",
      "Epoch 6/100\n",
      "75/75 - 0s - loss: 0.2571 - accuracy: 0.9573 - val_loss: 0.4576 - val_accuracy: 0.8160\n",
      "Epoch 7/100\n",
      "75/75 - 0s - loss: 0.2041 - accuracy: 0.9800 - val_loss: 0.4402 - val_accuracy: 0.8120\n",
      "Epoch 8/100\n",
      "75/75 - 0s - loss: 0.1648 - accuracy: 0.9853 - val_loss: 0.4277 - val_accuracy: 0.8200\n",
      "Epoch 9/100\n",
      "75/75 - 0s - loss: 0.1349 - accuracy: 0.9933 - val_loss: 0.4230 - val_accuracy: 0.8240\n",
      "Epoch 10/100\n",
      "75/75 - 0s - loss: 0.1117 - accuracy: 0.9933 - val_loss: 0.4182 - val_accuracy: 0.8160\n",
      "Epoch 11/100\n",
      "75/75 - 0s - loss: 0.0932 - accuracy: 0.9960 - val_loss: 0.4187 - val_accuracy: 0.8240\n",
      "Epoch 12/100\n",
      "75/75 - 0s - loss: 0.0784 - accuracy: 0.9973 - val_loss: 0.4216 - val_accuracy: 0.8200\n",
      "Epoch 13/100\n",
      "75/75 - 0s - loss: 0.0668 - accuracy: 0.9973 - val_loss: 0.4237 - val_accuracy: 0.8240\n",
      "Epoch 14/100\n",
      "75/75 - 0s - loss: 0.0571 - accuracy: 0.9973 - val_loss: 0.4286 - val_accuracy: 0.8240\n",
      "Epoch 15/100\n",
      "75/75 - 0s - loss: 0.0497 - accuracy: 0.9973 - val_loss: 0.4343 - val_accuracy: 0.8200\n",
      "Epoch 16/100\n",
      "75/75 - 0s - loss: 0.0432 - accuracy: 0.9987 - val_loss: 0.4409 - val_accuracy: 0.8200\n",
      "Epoch 17/100\n",
      "75/75 - 0s - loss: 0.0377 - accuracy: 1.0000 - val_loss: 0.4473 - val_accuracy: 0.8200\n",
      "Epoch 18/100\n",
      "75/75 - 0s - loss: 0.0333 - accuracy: 1.0000 - val_loss: 0.4530 - val_accuracy: 0.8200\n",
      "Epoch 19/100\n",
      "75/75 - 0s - loss: 0.0295 - accuracy: 1.0000 - val_loss: 0.4602 - val_accuracy: 0.8240\n",
      "Epoch 20/100\n",
      "75/75 - 0s - loss: 0.0263 - accuracy: 1.0000 - val_loss: 0.4673 - val_accuracy: 0.8200\n",
      "Epoch 21/100\n",
      "75/75 - 0s - loss: 0.0234 - accuracy: 1.0000 - val_loss: 0.4746 - val_accuracy: 0.8240\n",
      "Epoch 22/100\n",
      "75/75 - 0s - loss: 0.0210 - accuracy: 1.0000 - val_loss: 0.4825 - val_accuracy: 0.8240\n",
      "Epoch 23/100\n",
      "75/75 - 0s - loss: 0.0190 - accuracy: 1.0000 - val_loss: 0.4898 - val_accuracy: 0.8240\n",
      "Epoch 24/100\n",
      "75/75 - 0s - loss: 0.0171 - accuracy: 1.0000 - val_loss: 0.4975 - val_accuracy: 0.8240\n",
      "Epoch 25/100\n",
      "75/75 - 0s - loss: 0.0155 - accuracy: 1.0000 - val_loss: 0.5050 - val_accuracy: 0.8240\n",
      "Epoch 26/100\n",
      "75/75 - 0s - loss: 0.0141 - accuracy: 1.0000 - val_loss: 0.5115 - val_accuracy: 0.8280\n",
      "Epoch 27/100\n",
      "75/75 - 0s - loss: 0.0129 - accuracy: 1.0000 - val_loss: 0.5190 - val_accuracy: 0.8200\n",
      "Epoch 28/100\n",
      "75/75 - 0s - loss: 0.0118 - accuracy: 1.0000 - val_loss: 0.5257 - val_accuracy: 0.8200\n",
      "Epoch 29/100\n",
      "75/75 - 0s - loss: 0.0108 - accuracy: 1.0000 - val_loss: 0.5333 - val_accuracy: 0.8200\n",
      "Epoch 30/100\n",
      "75/75 - 0s - loss: 0.0099 - accuracy: 1.0000 - val_loss: 0.5403 - val_accuracy: 0.8160\n",
      "Epoch 31/100\n",
      "75/75 - 0s - loss: 0.0091 - accuracy: 1.0000 - val_loss: 0.5464 - val_accuracy: 0.8200\n",
      "Epoch 32/100\n",
      "75/75 - 0s - loss: 0.0084 - accuracy: 1.0000 - val_loss: 0.5527 - val_accuracy: 0.8240\n",
      "Epoch 33/100\n",
      "75/75 - 0s - loss: 0.0078 - accuracy: 1.0000 - val_loss: 0.5592 - val_accuracy: 0.8200\n",
      "Epoch 34/100\n",
      "75/75 - 0s - loss: 0.0072 - accuracy: 1.0000 - val_loss: 0.5669 - val_accuracy: 0.8160\n",
      "Epoch 35/100\n",
      "75/75 - 0s - loss: 0.0067 - accuracy: 1.0000 - val_loss: 0.5735 - val_accuracy: 0.8160\n",
      "Epoch 36/100\n",
      "75/75 - 0s - loss: 0.0062 - accuracy: 1.0000 - val_loss: 0.5803 - val_accuracy: 0.8160\n",
      "Epoch 37/100\n",
      "75/75 - 0s - loss: 0.0058 - accuracy: 1.0000 - val_loss: 0.5864 - val_accuracy: 0.8160\n",
      "Epoch 38/100\n",
      "75/75 - 0s - loss: 0.0054 - accuracy: 1.0000 - val_loss: 0.5928 - val_accuracy: 0.8160\n",
      "Epoch 39/100\n",
      "75/75 - 0s - loss: 0.0050 - accuracy: 1.0000 - val_loss: 0.5992 - val_accuracy: 0.8160\n",
      "Epoch 40/100\n",
      "75/75 - 0s - loss: 0.0047 - accuracy: 1.0000 - val_loss: 0.6058 - val_accuracy: 0.8160\n",
      "Epoch 41/100\n",
      "75/75 - 0s - loss: 0.0044 - accuracy: 1.0000 - val_loss: 0.6120 - val_accuracy: 0.8120\n",
      "Epoch 42/100\n",
      "75/75 - 0s - loss: 0.0041 - accuracy: 1.0000 - val_loss: 0.6176 - val_accuracy: 0.8120\n",
      "Epoch 43/100\n",
      "75/75 - 0s - loss: 0.0038 - accuracy: 1.0000 - val_loss: 0.6243 - val_accuracy: 0.8200\n",
      "Epoch 44/100\n",
      "75/75 - 0s - loss: 0.0036 - accuracy: 1.0000 - val_loss: 0.6293 - val_accuracy: 0.8080\n",
      "Epoch 45/100\n",
      "75/75 - 0s - loss: 0.0034 - accuracy: 1.0000 - val_loss: 0.6355 - val_accuracy: 0.8080\n",
      "Epoch 46/100\n",
      "75/75 - 0s - loss: 0.0032 - accuracy: 1.0000 - val_loss: 0.6417 - val_accuracy: 0.8040\n",
      "Epoch 47/100\n",
      "75/75 - 0s - loss: 0.0030 - accuracy: 1.0000 - val_loss: 0.6479 - val_accuracy: 0.8080\n",
      "Epoch 48/100\n",
      "75/75 - 0s - loss: 0.0028 - accuracy: 1.0000 - val_loss: 0.6532 - val_accuracy: 0.8080\n",
      "Epoch 49/100\n",
      "75/75 - 0s - loss: 0.0027 - accuracy: 1.0000 - val_loss: 0.6592 - val_accuracy: 0.8080\n",
      "Epoch 50/100\n",
      "75/75 - 0s - loss: 0.0025 - accuracy: 1.0000 - val_loss: 0.6650 - val_accuracy: 0.8080\n",
      "Epoch 51/100\n",
      "75/75 - 0s - loss: 0.0024 - accuracy: 1.0000 - val_loss: 0.6709 - val_accuracy: 0.8080\n",
      "Epoch 52/100\n",
      "75/75 - 0s - loss: 0.0022 - accuracy: 1.0000 - val_loss: 0.6765 - val_accuracy: 0.8080\n",
      "Epoch 53/100\n",
      "75/75 - 0s - loss: 0.0021 - accuracy: 1.0000 - val_loss: 0.6819 - val_accuracy: 0.8080\n",
      "Epoch 54/100\n",
      "75/75 - 0s - loss: 0.0020 - accuracy: 1.0000 - val_loss: 0.6876 - val_accuracy: 0.8080\n",
      "Epoch 55/100\n",
      "75/75 - 0s - loss: 0.0019 - accuracy: 1.0000 - val_loss: 0.6931 - val_accuracy: 0.8080\n",
      "Epoch 56/100\n",
      "75/75 - 0s - loss: 0.0018 - accuracy: 1.0000 - val_loss: 0.6988 - val_accuracy: 0.8080\n",
      "Epoch 57/100\n",
      "75/75 - 0s - loss: 0.0017 - accuracy: 1.0000 - val_loss: 0.7045 - val_accuracy: 0.8080\n",
      "Epoch 58/100\n",
      "75/75 - 0s - loss: 0.0016 - accuracy: 1.0000 - val_loss: 0.7099 - val_accuracy: 0.8080\n",
      "Epoch 59/100\n",
      "75/75 - 0s - loss: 0.0015 - accuracy: 1.0000 - val_loss: 0.7156 - val_accuracy: 0.8080\n",
      "Epoch 60/100\n",
      "75/75 - 0s - loss: 0.0014 - accuracy: 1.0000 - val_loss: 0.7207 - val_accuracy: 0.8080\n",
      "Epoch 61/100\n",
      "75/75 - 0s - loss: 0.0014 - accuracy: 1.0000 - val_loss: 0.7266 - val_accuracy: 0.8080\n",
      "Epoch 62/100\n",
      "75/75 - 0s - loss: 0.0013 - accuracy: 1.0000 - val_loss: 0.7315 - val_accuracy: 0.8080\n",
      "Epoch 63/100\n",
      "75/75 - 0s - loss: 0.0012 - accuracy: 1.0000 - val_loss: 0.7370 - val_accuracy: 0.8040\n",
      "Epoch 64/100\n",
      "75/75 - 0s - loss: 0.0012 - accuracy: 1.0000 - val_loss: 0.7425 - val_accuracy: 0.8040\n",
      "Epoch 65/100\n",
      "75/75 - 0s - loss: 0.0011 - accuracy: 1.0000 - val_loss: 0.7480 - val_accuracy: 0.8040\n",
      "Epoch 66/100\n",
      "75/75 - 0s - loss: 0.0010 - accuracy: 1.0000 - val_loss: 0.7531 - val_accuracy: 0.8040\n",
      "Epoch 67/100\n",
      "75/75 - 0s - loss: 9.8839e-04 - accuracy: 1.0000 - val_loss: 0.7581 - val_accuracy: 0.8040\n",
      "Epoch 68/100\n",
      "75/75 - 0s - loss: 9.4146e-04 - accuracy: 1.0000 - val_loss: 0.7638 - val_accuracy: 0.8040\n",
      "Epoch 69/100\n",
      "75/75 - 0s - loss: 8.9217e-04 - accuracy: 1.0000 - val_loss: 0.7689 - val_accuracy: 0.8040\n",
      "Epoch 70/100\n",
      "75/75 - 0s - loss: 8.4951e-04 - accuracy: 1.0000 - val_loss: 0.7741 - val_accuracy: 0.8040\n",
      "Epoch 71/100\n",
      "75/75 - 0s - loss: 8.0851e-04 - accuracy: 1.0000 - val_loss: 0.7793 - val_accuracy: 0.8040\n",
      "Epoch 72/100\n",
      "75/75 - 0s - loss: 7.7249e-04 - accuracy: 1.0000 - val_loss: 0.7848 - val_accuracy: 0.8040\n",
      "Epoch 73/100\n",
      "75/75 - 0s - loss: 7.3298e-04 - accuracy: 1.0000 - val_loss: 0.7898 - val_accuracy: 0.8040\n",
      "Epoch 74/100\n",
      "75/75 - 0s - loss: 6.9772e-04 - accuracy: 1.0000 - val_loss: 0.7948 - val_accuracy: 0.8040\n",
      "Epoch 75/100\n",
      "75/75 - 0s - loss: 6.6329e-04 - accuracy: 1.0000 - val_loss: 0.8001 - val_accuracy: 0.8040\n",
      "Epoch 76/100\n",
      "75/75 - 0s - loss: 6.3205e-04 - accuracy: 1.0000 - val_loss: 0.8050 - val_accuracy: 0.8040\n",
      "Epoch 77/100\n",
      "75/75 - 0s - loss: 6.0345e-04 - accuracy: 1.0000 - val_loss: 0.8100 - val_accuracy: 0.8040\n",
      "Epoch 78/100\n",
      "75/75 - 0s - loss: 5.7609e-04 - accuracy: 1.0000 - val_loss: 0.8150 - val_accuracy: 0.8040\n",
      "Epoch 79/100\n",
      "75/75 - 0s - loss: 5.4731e-04 - accuracy: 1.0000 - val_loss: 0.8202 - val_accuracy: 0.8040\n",
      "Epoch 80/100\n",
      "75/75 - 0s - loss: 5.2157e-04 - accuracy: 1.0000 - val_loss: 0.8254 - val_accuracy: 0.8040\n",
      "Epoch 81/100\n",
      "75/75 - 0s - loss: 4.9800e-04 - accuracy: 1.0000 - val_loss: 0.8302 - val_accuracy: 0.8040\n",
      "Epoch 82/100\n",
      "75/75 - 0s - loss: 4.7441e-04 - accuracy: 1.0000 - val_loss: 0.8355 - val_accuracy: 0.8040\n",
      "Epoch 83/100\n",
      "75/75 - 0s - loss: 4.5182e-04 - accuracy: 1.0000 - val_loss: 0.8404 - val_accuracy: 0.8040\n",
      "Epoch 84/100\n",
      "75/75 - 0s - loss: 4.3172e-04 - accuracy: 1.0000 - val_loss: 0.8451 - val_accuracy: 0.8040\n",
      "Epoch 85/100\n",
      "75/75 - 0s - loss: 4.1331e-04 - accuracy: 1.0000 - val_loss: 0.8504 - val_accuracy: 0.8040\n",
      "Epoch 86/100\n",
      "75/75 - 0s - loss: 3.9436e-04 - accuracy: 1.0000 - val_loss: 0.8547 - val_accuracy: 0.8040\n",
      "Epoch 87/100\n",
      "75/75 - 0s - loss: 3.7749e-04 - accuracy: 1.0000 - val_loss: 0.8605 - val_accuracy: 0.8040\n",
      "Epoch 88/100\n",
      "75/75 - 0s - loss: 3.5907e-04 - accuracy: 1.0000 - val_loss: 0.8647 - val_accuracy: 0.8040\n",
      "Epoch 89/100\n",
      "75/75 - 0s - loss: 3.4287e-04 - accuracy: 1.0000 - val_loss: 0.8704 - val_accuracy: 0.8040\n",
      "Epoch 90/100\n",
      "75/75 - 0s - loss: 3.2744e-04 - accuracy: 1.0000 - val_loss: 0.8753 - val_accuracy: 0.8040\n",
      "Epoch 91/100\n",
      "75/75 - 0s - loss: 3.1287e-04 - accuracy: 1.0000 - val_loss: 0.8800 - val_accuracy: 0.8040\n",
      "Epoch 92/100\n",
      "75/75 - 0s - loss: 2.9810e-04 - accuracy: 1.0000 - val_loss: 0.8852 - val_accuracy: 0.8040\n",
      "Epoch 93/100\n",
      "75/75 - 0s - loss: 2.8523e-04 - accuracy: 1.0000 - val_loss: 0.8899 - val_accuracy: 0.8040\n",
      "Epoch 94/100\n",
      "75/75 - 0s - loss: 2.7361e-04 - accuracy: 1.0000 - val_loss: 0.8948 - val_accuracy: 0.8040\n",
      "Epoch 95/100\n",
      "75/75 - 0s - loss: 2.6056e-04 - accuracy: 1.0000 - val_loss: 0.9003 - val_accuracy: 0.8040\n",
      "Epoch 96/100\n",
      "75/75 - 0s - loss: 2.4910e-04 - accuracy: 1.0000 - val_loss: 0.9043 - val_accuracy: 0.8040\n",
      "Epoch 97/100\n",
      "75/75 - 0s - loss: 2.3717e-04 - accuracy: 1.0000 - val_loss: 0.9096 - val_accuracy: 0.8040\n",
      "Epoch 98/100\n",
      "75/75 - 0s - loss: 2.2795e-04 - accuracy: 1.0000 - val_loss: 0.9155 - val_accuracy: 0.8040\n",
      "Epoch 99/100\n",
      "75/75 - 0s - loss: 2.1752e-04 - accuracy: 1.0000 - val_loss: 0.9198 - val_accuracy: 0.8040\n",
      "Epoch 100/100\n",
      "75/75 - 0s - loss: 2.0759e-04 - accuracy: 1.0000 - val_loss: 0.9247 - val_accuracy: 0.8040\n",
      "Wall time: 18.7 s\n"
     ]
    }
   ],
   "source": [
    "%%time\n",
    "\n",
    "history = model.fit(\n",
    "    X_train, y_train,\n",
    "    epochs=100,\n",
    "    batch_size=10,\n",
    "    verbose=2,\n",
    "    validation_data=(X_test, y_test)\n",
    ")"
   ]
  },
  {
   "cell_type": "code",
   "execution_count": 107,
   "metadata": {},
   "outputs": [
    {
     "output_type": "stream",
     "name": "stdout",
     "text": [
      "Training Accuracy: 1.0000\nTesting Accuracy:  0.8040\n"
     ]
    }
   ],
   "source": [
    "loss, accuracy = model.evaluate(X_train, y_train, verbose=False)\n",
    "print(\"Training Accuracy: {:.4f}\".format(accuracy))\n",
    "loss, accuracy = model.evaluate(X_test, y_test, verbose=False)\n",
    "print(\"Testing Accuracy:  {:.4f}\".format(accuracy))"
   ]
  },
  {
   "cell_type": "code",
   "execution_count": 108,
   "metadata": {},
   "outputs": [],
   "source": [
    "def plot_history(history):\n",
    "    \n",
    "    fig, (ax1, ax2) = plt.subplots(1,2, figsize=(14,3))\n",
    "    fig.subplots_adjust(hspace=0.5)\n",
    "    \n",
    "    ax1.plot(history['loss'], label='loss')\n",
    "    ax1.plot(history['val_loss'], label='val_loss')\n",
    "    ax1.set_ylim([0, 1])\n",
    "    ax1.set_xlabel('Epoch')\n",
    "    ax1.set_ylabel('Loss')\n",
    "    ax1.legend()\n",
    "    ax1.grid(True)\n",
    "    \n",
    "    ax2.plot(history['accuracy'], label='Accuracy')\n",
    "    ax2.plot(history['val_accuracy'], label='Validation Accuracy')\n",
    "    ax2.set_ylim([0, 1])\n",
    "    ax2.set_xlabel('Epoch')\n",
    "    ax2.set_ylabel('Accuracy')\n",
    "    ax2.legend()\n",
    "    ax2.grid(True)\n",
    "    \n",
    "    plt.show()"
   ]
  },
  {
   "cell_type": "code",
   "execution_count": 109,
   "metadata": {},
   "outputs": [
    {
     "output_type": "display_data",
     "data": {
      "text/plain": "<Figure size 1008x216 with 2 Axes>",
      "image/svg+xml": "<?xml version=\"1.0\" encoding=\"utf-8\" standalone=\"no\"?>\r\n<!DOCTYPE svg PUBLIC \"-//W3C//DTD SVG 1.1//EN\"\r\n  \"http://www.w3.org/Graphics/SVG/1.1/DTD/svg11.dtd\">\r\n<!-- Created with matplotlib (https://matplotlib.org/) -->\r\n<svg height=\"211.635469pt\" version=\"1.1\" viewBox=\"0 0 832.18125 211.635469\" width=\"832.18125pt\" xmlns=\"http://www.w3.org/2000/svg\" xmlns:xlink=\"http://www.w3.org/1999/xlink\">\r\n <metadata>\r\n  <rdf:RDF xmlns:cc=\"http://creativecommons.org/ns#\" xmlns:dc=\"http://purl.org/dc/elements/1.1/\" xmlns:rdf=\"http://www.w3.org/1999/02/22-rdf-syntax-ns#\">\r\n   <cc:Work>\r\n    <dc:type rdf:resource=\"http://purl.org/dc/dcmitype/StillImage\"/>\r\n    <dc:date>2021-01-09T02:11:39.814480</dc:date>\r\n    <dc:format>image/svg+xml</dc:format>\r\n    <dc:creator>\r\n     <cc:Agent>\r\n      <dc:title>Matplotlib v3.3.3, https://matplotlib.org/</dc:title>\r\n     </cc:Agent>\r\n    </dc:creator>\r\n   </cc:Work>\r\n  </rdf:RDF>\r\n </metadata>\r\n <defs>\r\n  <style type=\"text/css\">*{stroke-linecap:butt;stroke-linejoin:round;}</style>\r\n </defs>\r\n <g id=\"figure_1\">\r\n  <g id=\"patch_1\">\r\n   <path d=\"M 0 211.635469 \r\nL 832.18125 211.635469 \r\nL 832.18125 0 \r\nL 0 0 \r\nz\r\n\" style=\"fill:none;\"/>\r\n  </g>\r\n  <g id=\"axes_1\">\r\n   <g id=\"patch_2\">\r\n    <path d=\"M 43.78125 174.079219 \r\nL 398.872159 174.079219 \r\nL 398.872159 10.999219 \r\nL 43.78125 10.999219 \r\nz\r\n\" style=\"fill:#ffffff;\"/>\r\n   </g>\r\n   <g id=\"matplotlib.axis_1\">\r\n    <g id=\"xtick_1\">\r\n     <g id=\"line2d_1\">\r\n      <path clip-path=\"url(#p03a1b63ca7)\" d=\"M 59.921746 174.079219 \r\nL 59.921746 10.999219 \r\n\" style=\"fill:none;stroke:#b0b0b0;stroke-linecap:square;stroke-width:0.8;\"/>\r\n     </g>\r\n     <g id=\"line2d_2\">\r\n      <defs>\r\n       <path d=\"M 0 0 \r\nL 0 3.5 \r\n\" id=\"m8969eaf5cf\" style=\"stroke:#000000;stroke-width:0.8;\"/>\r\n      </defs>\r\n      <g>\r\n       <use style=\"stroke:#000000;stroke-width:0.8;\" x=\"59.921746\" xlink:href=\"#m8969eaf5cf\" y=\"174.079219\"/>\r\n      </g>\r\n     </g>\r\n     <g id=\"text_1\">\r\n      <!-- 0 -->\r\n      <g transform=\"translate(56.740496 188.677656)scale(0.1 -0.1)\">\r\n       <defs>\r\n        <path d=\"M 31.78125 66.40625 \r\nQ 24.171875 66.40625 20.328125 58.90625 \r\nQ 16.5 51.421875 16.5 36.375 \r\nQ 16.5 21.390625 20.328125 13.890625 \r\nQ 24.171875 6.390625 31.78125 6.390625 \r\nQ 39.453125 6.390625 43.28125 13.890625 \r\nQ 47.125 21.390625 47.125 36.375 \r\nQ 47.125 51.421875 43.28125 58.90625 \r\nQ 39.453125 66.40625 31.78125 66.40625 \r\nz\r\nM 31.78125 74.21875 \r\nQ 44.046875 74.21875 50.515625 64.515625 \r\nQ 56.984375 54.828125 56.984375 36.375 \r\nQ 56.984375 17.96875 50.515625 8.265625 \r\nQ 44.046875 -1.421875 31.78125 -1.421875 \r\nQ 19.53125 -1.421875 13.0625 8.265625 \r\nQ 6.59375 17.96875 6.59375 36.375 \r\nQ 6.59375 54.828125 13.0625 64.515625 \r\nQ 19.53125 74.21875 31.78125 74.21875 \r\nz\r\n\" id=\"DejaVuSans-48\"/>\r\n       </defs>\r\n       <use xlink:href=\"#DejaVuSans-48\"/>\r\n      </g>\r\n     </g>\r\n    </g>\r\n    <g id=\"xtick_2\">\r\n     <g id=\"line2d_3\">\r\n      <path clip-path=\"url(#p03a1b63ca7)\" d=\"M 125.135871 174.079219 \r\nL 125.135871 10.999219 \r\n\" style=\"fill:none;stroke:#b0b0b0;stroke-linecap:square;stroke-width:0.8;\"/>\r\n     </g>\r\n     <g id=\"line2d_4\">\r\n      <g>\r\n       <use style=\"stroke:#000000;stroke-width:0.8;\" x=\"125.135871\" xlink:href=\"#m8969eaf5cf\" y=\"174.079219\"/>\r\n      </g>\r\n     </g>\r\n     <g id=\"text_2\">\r\n      <!-- 20 -->\r\n      <g transform=\"translate(118.773371 188.677656)scale(0.1 -0.1)\">\r\n       <defs>\r\n        <path d=\"M 19.1875 8.296875 \r\nL 53.609375 8.296875 \r\nL 53.609375 0 \r\nL 7.328125 0 \r\nL 7.328125 8.296875 \r\nQ 12.9375 14.109375 22.625 23.890625 \r\nQ 32.328125 33.6875 34.8125 36.53125 \r\nQ 39.546875 41.84375 41.421875 45.53125 \r\nQ 43.3125 49.21875 43.3125 52.78125 \r\nQ 43.3125 58.59375 39.234375 62.25 \r\nQ 35.15625 65.921875 28.609375 65.921875 \r\nQ 23.96875 65.921875 18.8125 64.3125 \r\nQ 13.671875 62.703125 7.8125 59.421875 \r\nL 7.8125 69.390625 \r\nQ 13.765625 71.78125 18.9375 73 \r\nQ 24.125 74.21875 28.421875 74.21875 \r\nQ 39.75 74.21875 46.484375 68.546875 \r\nQ 53.21875 62.890625 53.21875 53.421875 \r\nQ 53.21875 48.921875 51.53125 44.890625 \r\nQ 49.859375 40.875 45.40625 35.40625 \r\nQ 44.1875 33.984375 37.640625 27.21875 \r\nQ 31.109375 20.453125 19.1875 8.296875 \r\nz\r\n\" id=\"DejaVuSans-50\"/>\r\n       </defs>\r\n       <use xlink:href=\"#DejaVuSans-50\"/>\r\n       <use x=\"63.623047\" xlink:href=\"#DejaVuSans-48\"/>\r\n      </g>\r\n     </g>\r\n    </g>\r\n    <g id=\"xtick_3\">\r\n     <g id=\"line2d_5\">\r\n      <path clip-path=\"url(#p03a1b63ca7)\" d=\"M 190.349995 174.079219 \r\nL 190.349995 10.999219 \r\n\" style=\"fill:none;stroke:#b0b0b0;stroke-linecap:square;stroke-width:0.8;\"/>\r\n     </g>\r\n     <g id=\"line2d_6\">\r\n      <g>\r\n       <use style=\"stroke:#000000;stroke-width:0.8;\" x=\"190.349995\" xlink:href=\"#m8969eaf5cf\" y=\"174.079219\"/>\r\n      </g>\r\n     </g>\r\n     <g id=\"text_3\">\r\n      <!-- 40 -->\r\n      <g transform=\"translate(183.987495 188.677656)scale(0.1 -0.1)\">\r\n       <defs>\r\n        <path d=\"M 37.796875 64.3125 \r\nL 12.890625 25.390625 \r\nL 37.796875 25.390625 \r\nz\r\nM 35.203125 72.90625 \r\nL 47.609375 72.90625 \r\nL 47.609375 25.390625 \r\nL 58.015625 25.390625 \r\nL 58.015625 17.1875 \r\nL 47.609375 17.1875 \r\nL 47.609375 0 \r\nL 37.796875 0 \r\nL 37.796875 17.1875 \r\nL 4.890625 17.1875 \r\nL 4.890625 26.703125 \r\nz\r\n\" id=\"DejaVuSans-52\"/>\r\n       </defs>\r\n       <use xlink:href=\"#DejaVuSans-52\"/>\r\n       <use x=\"63.623047\" xlink:href=\"#DejaVuSans-48\"/>\r\n      </g>\r\n     </g>\r\n    </g>\r\n    <g id=\"xtick_4\">\r\n     <g id=\"line2d_7\">\r\n      <path clip-path=\"url(#p03a1b63ca7)\" d=\"M 255.56412 174.079219 \r\nL 255.56412 10.999219 \r\n\" style=\"fill:none;stroke:#b0b0b0;stroke-linecap:square;stroke-width:0.8;\"/>\r\n     </g>\r\n     <g id=\"line2d_8\">\r\n      <g>\r\n       <use style=\"stroke:#000000;stroke-width:0.8;\" x=\"255.56412\" xlink:href=\"#m8969eaf5cf\" y=\"174.079219\"/>\r\n      </g>\r\n     </g>\r\n     <g id=\"text_4\">\r\n      <!-- 60 -->\r\n      <g transform=\"translate(249.20162 188.677656)scale(0.1 -0.1)\">\r\n       <defs>\r\n        <path d=\"M 33.015625 40.375 \r\nQ 26.375 40.375 22.484375 35.828125 \r\nQ 18.609375 31.296875 18.609375 23.390625 \r\nQ 18.609375 15.53125 22.484375 10.953125 \r\nQ 26.375 6.390625 33.015625 6.390625 \r\nQ 39.65625 6.390625 43.53125 10.953125 \r\nQ 47.40625 15.53125 47.40625 23.390625 \r\nQ 47.40625 31.296875 43.53125 35.828125 \r\nQ 39.65625 40.375 33.015625 40.375 \r\nz\r\nM 52.59375 71.296875 \r\nL 52.59375 62.3125 \r\nQ 48.875 64.0625 45.09375 64.984375 \r\nQ 41.3125 65.921875 37.59375 65.921875 \r\nQ 27.828125 65.921875 22.671875 59.328125 \r\nQ 17.53125 52.734375 16.796875 39.40625 \r\nQ 19.671875 43.65625 24.015625 45.921875 \r\nQ 28.375 48.1875 33.59375 48.1875 \r\nQ 44.578125 48.1875 50.953125 41.515625 \r\nQ 57.328125 34.859375 57.328125 23.390625 \r\nQ 57.328125 12.15625 50.6875 5.359375 \r\nQ 44.046875 -1.421875 33.015625 -1.421875 \r\nQ 20.359375 -1.421875 13.671875 8.265625 \r\nQ 6.984375 17.96875 6.984375 36.375 \r\nQ 6.984375 53.65625 15.1875 63.9375 \r\nQ 23.390625 74.21875 37.203125 74.21875 \r\nQ 40.921875 74.21875 44.703125 73.484375 \r\nQ 48.484375 72.75 52.59375 71.296875 \r\nz\r\n\" id=\"DejaVuSans-54\"/>\r\n       </defs>\r\n       <use xlink:href=\"#DejaVuSans-54\"/>\r\n       <use x=\"63.623047\" xlink:href=\"#DejaVuSans-48\"/>\r\n      </g>\r\n     </g>\r\n    </g>\r\n    <g id=\"xtick_5\">\r\n     <g id=\"line2d_9\">\r\n      <path clip-path=\"url(#p03a1b63ca7)\" d=\"M 320.778245 174.079219 \r\nL 320.778245 10.999219 \r\n\" style=\"fill:none;stroke:#b0b0b0;stroke-linecap:square;stroke-width:0.8;\"/>\r\n     </g>\r\n     <g id=\"line2d_10\">\r\n      <g>\r\n       <use style=\"stroke:#000000;stroke-width:0.8;\" x=\"320.778245\" xlink:href=\"#m8969eaf5cf\" y=\"174.079219\"/>\r\n      </g>\r\n     </g>\r\n     <g id=\"text_5\">\r\n      <!-- 80 -->\r\n      <g transform=\"translate(314.415745 188.677656)scale(0.1 -0.1)\">\r\n       <defs>\r\n        <path d=\"M 31.78125 34.625 \r\nQ 24.75 34.625 20.71875 30.859375 \r\nQ 16.703125 27.09375 16.703125 20.515625 \r\nQ 16.703125 13.921875 20.71875 10.15625 \r\nQ 24.75 6.390625 31.78125 6.390625 \r\nQ 38.8125 6.390625 42.859375 10.171875 \r\nQ 46.921875 13.96875 46.921875 20.515625 \r\nQ 46.921875 27.09375 42.890625 30.859375 \r\nQ 38.875 34.625 31.78125 34.625 \r\nz\r\nM 21.921875 38.8125 \r\nQ 15.578125 40.375 12.03125 44.71875 \r\nQ 8.5 49.078125 8.5 55.328125 \r\nQ 8.5 64.0625 14.71875 69.140625 \r\nQ 20.953125 74.21875 31.78125 74.21875 \r\nQ 42.671875 74.21875 48.875 69.140625 \r\nQ 55.078125 64.0625 55.078125 55.328125 \r\nQ 55.078125 49.078125 51.53125 44.71875 \r\nQ 48 40.375 41.703125 38.8125 \r\nQ 48.828125 37.15625 52.796875 32.3125 \r\nQ 56.78125 27.484375 56.78125 20.515625 \r\nQ 56.78125 9.90625 50.3125 4.234375 \r\nQ 43.84375 -1.421875 31.78125 -1.421875 \r\nQ 19.734375 -1.421875 13.25 4.234375 \r\nQ 6.78125 9.90625 6.78125 20.515625 \r\nQ 6.78125 27.484375 10.78125 32.3125 \r\nQ 14.796875 37.15625 21.921875 38.8125 \r\nz\r\nM 18.3125 54.390625 \r\nQ 18.3125 48.734375 21.84375 45.5625 \r\nQ 25.390625 42.390625 31.78125 42.390625 \r\nQ 38.140625 42.390625 41.71875 45.5625 \r\nQ 45.3125 48.734375 45.3125 54.390625 \r\nQ 45.3125 60.0625 41.71875 63.234375 \r\nQ 38.140625 66.40625 31.78125 66.40625 \r\nQ 25.390625 66.40625 21.84375 63.234375 \r\nQ 18.3125 60.0625 18.3125 54.390625 \r\nz\r\n\" id=\"DejaVuSans-56\"/>\r\n       </defs>\r\n       <use xlink:href=\"#DejaVuSans-56\"/>\r\n       <use x=\"63.623047\" xlink:href=\"#DejaVuSans-48\"/>\r\n      </g>\r\n     </g>\r\n    </g>\r\n    <g id=\"xtick_6\">\r\n     <g id=\"line2d_11\">\r\n      <path clip-path=\"url(#p03a1b63ca7)\" d=\"M 385.992369 174.079219 \r\nL 385.992369 10.999219 \r\n\" style=\"fill:none;stroke:#b0b0b0;stroke-linecap:square;stroke-width:0.8;\"/>\r\n     </g>\r\n     <g id=\"line2d_12\">\r\n      <g>\r\n       <use style=\"stroke:#000000;stroke-width:0.8;\" x=\"385.992369\" xlink:href=\"#m8969eaf5cf\" y=\"174.079219\"/>\r\n      </g>\r\n     </g>\r\n     <g id=\"text_6\">\r\n      <!-- 100 -->\r\n      <g transform=\"translate(376.448619 188.677656)scale(0.1 -0.1)\">\r\n       <defs>\r\n        <path d=\"M 12.40625 8.296875 \r\nL 28.515625 8.296875 \r\nL 28.515625 63.921875 \r\nL 10.984375 60.40625 \r\nL 10.984375 69.390625 \r\nL 28.421875 72.90625 \r\nL 38.28125 72.90625 \r\nL 38.28125 8.296875 \r\nL 54.390625 8.296875 \r\nL 54.390625 0 \r\nL 12.40625 0 \r\nz\r\n\" id=\"DejaVuSans-49\"/>\r\n       </defs>\r\n       <use xlink:href=\"#DejaVuSans-49\"/>\r\n       <use x=\"63.623047\" xlink:href=\"#DejaVuSans-48\"/>\r\n       <use x=\"127.246094\" xlink:href=\"#DejaVuSans-48\"/>\r\n      </g>\r\n     </g>\r\n    </g>\r\n    <g id=\"text_7\">\r\n     <!-- Epoch -->\r\n     <g transform=\"translate(206.015767 202.355781)scale(0.1 -0.1)\">\r\n      <defs>\r\n       <path d=\"M 9.8125 72.90625 \r\nL 55.90625 72.90625 \r\nL 55.90625 64.59375 \r\nL 19.671875 64.59375 \r\nL 19.671875 43.015625 \r\nL 54.390625 43.015625 \r\nL 54.390625 34.71875 \r\nL 19.671875 34.71875 \r\nL 19.671875 8.296875 \r\nL 56.78125 8.296875 \r\nL 56.78125 0 \r\nL 9.8125 0 \r\nz\r\n\" id=\"DejaVuSans-69\"/>\r\n       <path d=\"M 18.109375 8.203125 \r\nL 18.109375 -20.796875 \r\nL 9.078125 -20.796875 \r\nL 9.078125 54.6875 \r\nL 18.109375 54.6875 \r\nL 18.109375 46.390625 \r\nQ 20.953125 51.265625 25.265625 53.625 \r\nQ 29.59375 56 35.59375 56 \r\nQ 45.5625 56 51.78125 48.09375 \r\nQ 58.015625 40.1875 58.015625 27.296875 \r\nQ 58.015625 14.40625 51.78125 6.484375 \r\nQ 45.5625 -1.421875 35.59375 -1.421875 \r\nQ 29.59375 -1.421875 25.265625 0.953125 \r\nQ 20.953125 3.328125 18.109375 8.203125 \r\nz\r\nM 48.6875 27.296875 \r\nQ 48.6875 37.203125 44.609375 42.84375 \r\nQ 40.53125 48.484375 33.40625 48.484375 \r\nQ 26.265625 48.484375 22.1875 42.84375 \r\nQ 18.109375 37.203125 18.109375 27.296875 \r\nQ 18.109375 17.390625 22.1875 11.75 \r\nQ 26.265625 6.109375 33.40625 6.109375 \r\nQ 40.53125 6.109375 44.609375 11.75 \r\nQ 48.6875 17.390625 48.6875 27.296875 \r\nz\r\n\" id=\"DejaVuSans-112\"/>\r\n       <path d=\"M 30.609375 48.390625 \r\nQ 23.390625 48.390625 19.1875 42.75 \r\nQ 14.984375 37.109375 14.984375 27.296875 \r\nQ 14.984375 17.484375 19.15625 11.84375 \r\nQ 23.34375 6.203125 30.609375 6.203125 \r\nQ 37.796875 6.203125 41.984375 11.859375 \r\nQ 46.1875 17.53125 46.1875 27.296875 \r\nQ 46.1875 37.015625 41.984375 42.703125 \r\nQ 37.796875 48.390625 30.609375 48.390625 \r\nz\r\nM 30.609375 56 \r\nQ 42.328125 56 49.015625 48.375 \r\nQ 55.71875 40.765625 55.71875 27.296875 \r\nQ 55.71875 13.875 49.015625 6.21875 \r\nQ 42.328125 -1.421875 30.609375 -1.421875 \r\nQ 18.84375 -1.421875 12.171875 6.21875 \r\nQ 5.515625 13.875 5.515625 27.296875 \r\nQ 5.515625 40.765625 12.171875 48.375 \r\nQ 18.84375 56 30.609375 56 \r\nz\r\n\" id=\"DejaVuSans-111\"/>\r\n       <path d=\"M 48.78125 52.59375 \r\nL 48.78125 44.1875 \r\nQ 44.96875 46.296875 41.140625 47.34375 \r\nQ 37.3125 48.390625 33.40625 48.390625 \r\nQ 24.65625 48.390625 19.8125 42.84375 \r\nQ 14.984375 37.3125 14.984375 27.296875 \r\nQ 14.984375 17.28125 19.8125 11.734375 \r\nQ 24.65625 6.203125 33.40625 6.203125 \r\nQ 37.3125 6.203125 41.140625 7.25 \r\nQ 44.96875 8.296875 48.78125 10.40625 \r\nL 48.78125 2.09375 \r\nQ 45.015625 0.34375 40.984375 -0.53125 \r\nQ 36.96875 -1.421875 32.421875 -1.421875 \r\nQ 20.0625 -1.421875 12.78125 6.34375 \r\nQ 5.515625 14.109375 5.515625 27.296875 \r\nQ 5.515625 40.671875 12.859375 48.328125 \r\nQ 20.21875 56 33.015625 56 \r\nQ 37.15625 56 41.109375 55.140625 \r\nQ 45.0625 54.296875 48.78125 52.59375 \r\nz\r\n\" id=\"DejaVuSans-99\"/>\r\n       <path d=\"M 54.890625 33.015625 \r\nL 54.890625 0 \r\nL 45.90625 0 \r\nL 45.90625 32.71875 \r\nQ 45.90625 40.484375 42.875 44.328125 \r\nQ 39.84375 48.1875 33.796875 48.1875 \r\nQ 26.515625 48.1875 22.3125 43.546875 \r\nQ 18.109375 38.921875 18.109375 30.90625 \r\nL 18.109375 0 \r\nL 9.078125 0 \r\nL 9.078125 75.984375 \r\nL 18.109375 75.984375 \r\nL 18.109375 46.1875 \r\nQ 21.34375 51.125 25.703125 53.5625 \r\nQ 30.078125 56 35.796875 56 \r\nQ 45.21875 56 50.046875 50.171875 \r\nQ 54.890625 44.34375 54.890625 33.015625 \r\nz\r\n\" id=\"DejaVuSans-104\"/>\r\n      </defs>\r\n      <use xlink:href=\"#DejaVuSans-69\"/>\r\n      <use x=\"63.183594\" xlink:href=\"#DejaVuSans-112\"/>\r\n      <use x=\"126.660156\" xlink:href=\"#DejaVuSans-111\"/>\r\n      <use x=\"187.841797\" xlink:href=\"#DejaVuSans-99\"/>\r\n      <use x=\"242.822266\" xlink:href=\"#DejaVuSans-104\"/>\r\n     </g>\r\n    </g>\r\n   </g>\r\n   <g id=\"matplotlib.axis_2\">\r\n    <g id=\"ytick_1\">\r\n     <g id=\"line2d_13\">\r\n      <path clip-path=\"url(#p03a1b63ca7)\" d=\"M 43.78125 174.079219 \r\nL 398.872159 174.079219 \r\n\" style=\"fill:none;stroke:#b0b0b0;stroke-linecap:square;stroke-width:0.8;\"/>\r\n     </g>\r\n     <g id=\"line2d_14\">\r\n      <defs>\r\n       <path d=\"M 0 0 \r\nL -3.5 0 \r\n\" id=\"m637245d8af\" style=\"stroke:#000000;stroke-width:0.8;\"/>\r\n      </defs>\r\n      <g>\r\n       <use style=\"stroke:#000000;stroke-width:0.8;\" x=\"43.78125\" xlink:href=\"#m637245d8af\" y=\"174.079219\"/>\r\n      </g>\r\n     </g>\r\n     <g id=\"text_8\">\r\n      <!-- 0.0 -->\r\n      <g transform=\"translate(20.878125 177.878437)scale(0.1 -0.1)\">\r\n       <defs>\r\n        <path d=\"M 10.6875 12.40625 \r\nL 21 12.40625 \r\nL 21 0 \r\nL 10.6875 0 \r\nz\r\n\" id=\"DejaVuSans-46\"/>\r\n       </defs>\r\n       <use xlink:href=\"#DejaVuSans-48\"/>\r\n       <use x=\"63.623047\" xlink:href=\"#DejaVuSans-46\"/>\r\n       <use x=\"95.410156\" xlink:href=\"#DejaVuSans-48\"/>\r\n      </g>\r\n     </g>\r\n    </g>\r\n    <g id=\"ytick_2\">\r\n     <g id=\"line2d_15\">\r\n      <path clip-path=\"url(#p03a1b63ca7)\" d=\"M 43.78125 141.463219 \r\nL 398.872159 141.463219 \r\n\" style=\"fill:none;stroke:#b0b0b0;stroke-linecap:square;stroke-width:0.8;\"/>\r\n     </g>\r\n     <g id=\"line2d_16\">\r\n      <g>\r\n       <use style=\"stroke:#000000;stroke-width:0.8;\" x=\"43.78125\" xlink:href=\"#m637245d8af\" y=\"141.463219\"/>\r\n      </g>\r\n     </g>\r\n     <g id=\"text_9\">\r\n      <!-- 0.2 -->\r\n      <g transform=\"translate(20.878125 145.262437)scale(0.1 -0.1)\">\r\n       <use xlink:href=\"#DejaVuSans-48\"/>\r\n       <use x=\"63.623047\" xlink:href=\"#DejaVuSans-46\"/>\r\n       <use x=\"95.410156\" xlink:href=\"#DejaVuSans-50\"/>\r\n      </g>\r\n     </g>\r\n    </g>\r\n    <g id=\"ytick_3\">\r\n     <g id=\"line2d_17\">\r\n      <path clip-path=\"url(#p03a1b63ca7)\" d=\"M 43.78125 108.847219 \r\nL 398.872159 108.847219 \r\n\" style=\"fill:none;stroke:#b0b0b0;stroke-linecap:square;stroke-width:0.8;\"/>\r\n     </g>\r\n     <g id=\"line2d_18\">\r\n      <g>\r\n       <use style=\"stroke:#000000;stroke-width:0.8;\" x=\"43.78125\" xlink:href=\"#m637245d8af\" y=\"108.847219\"/>\r\n      </g>\r\n     </g>\r\n     <g id=\"text_10\">\r\n      <!-- 0.4 -->\r\n      <g transform=\"translate(20.878125 112.646437)scale(0.1 -0.1)\">\r\n       <use xlink:href=\"#DejaVuSans-48\"/>\r\n       <use x=\"63.623047\" xlink:href=\"#DejaVuSans-46\"/>\r\n       <use x=\"95.410156\" xlink:href=\"#DejaVuSans-52\"/>\r\n      </g>\r\n     </g>\r\n    </g>\r\n    <g id=\"ytick_4\">\r\n     <g id=\"line2d_19\">\r\n      <path clip-path=\"url(#p03a1b63ca7)\" d=\"M 43.78125 76.231219 \r\nL 398.872159 76.231219 \r\n\" style=\"fill:none;stroke:#b0b0b0;stroke-linecap:square;stroke-width:0.8;\"/>\r\n     </g>\r\n     <g id=\"line2d_20\">\r\n      <g>\r\n       <use style=\"stroke:#000000;stroke-width:0.8;\" x=\"43.78125\" xlink:href=\"#m637245d8af\" y=\"76.231219\"/>\r\n      </g>\r\n     </g>\r\n     <g id=\"text_11\">\r\n      <!-- 0.6 -->\r\n      <g transform=\"translate(20.878125 80.030437)scale(0.1 -0.1)\">\r\n       <use xlink:href=\"#DejaVuSans-48\"/>\r\n       <use x=\"63.623047\" xlink:href=\"#DejaVuSans-46\"/>\r\n       <use x=\"95.410156\" xlink:href=\"#DejaVuSans-54\"/>\r\n      </g>\r\n     </g>\r\n    </g>\r\n    <g id=\"ytick_5\">\r\n     <g id=\"line2d_21\">\r\n      <path clip-path=\"url(#p03a1b63ca7)\" d=\"M 43.78125 43.615219 \r\nL 398.872159 43.615219 \r\n\" style=\"fill:none;stroke:#b0b0b0;stroke-linecap:square;stroke-width:0.8;\"/>\r\n     </g>\r\n     <g id=\"line2d_22\">\r\n      <g>\r\n       <use style=\"stroke:#000000;stroke-width:0.8;\" x=\"43.78125\" xlink:href=\"#m637245d8af\" y=\"43.615219\"/>\r\n      </g>\r\n     </g>\r\n     <g id=\"text_12\">\r\n      <!-- 0.8 -->\r\n      <g transform=\"translate(20.878125 47.414437)scale(0.1 -0.1)\">\r\n       <use xlink:href=\"#DejaVuSans-48\"/>\r\n       <use x=\"63.623047\" xlink:href=\"#DejaVuSans-46\"/>\r\n       <use x=\"95.410156\" xlink:href=\"#DejaVuSans-56\"/>\r\n      </g>\r\n     </g>\r\n    </g>\r\n    <g id=\"ytick_6\">\r\n     <g id=\"line2d_23\">\r\n      <path clip-path=\"url(#p03a1b63ca7)\" d=\"M 43.78125 10.999219 \r\nL 398.872159 10.999219 \r\n\" style=\"fill:none;stroke:#b0b0b0;stroke-linecap:square;stroke-width:0.8;\"/>\r\n     </g>\r\n     <g id=\"line2d_24\">\r\n      <g>\r\n       <use style=\"stroke:#000000;stroke-width:0.8;\" x=\"43.78125\" xlink:href=\"#m637245d8af\" y=\"10.999219\"/>\r\n      </g>\r\n     </g>\r\n     <g id=\"text_13\">\r\n      <!-- 1.0 -->\r\n      <g transform=\"translate(20.878125 14.798437)scale(0.1 -0.1)\">\r\n       <use xlink:href=\"#DejaVuSans-49\"/>\r\n       <use x=\"63.623047\" xlink:href=\"#DejaVuSans-46\"/>\r\n       <use x=\"95.410156\" xlink:href=\"#DejaVuSans-48\"/>\r\n      </g>\r\n     </g>\r\n    </g>\r\n    <g id=\"text_14\">\r\n     <!-- Loss -->\r\n     <g transform=\"translate(14.798438 103.506406)rotate(-90)scale(0.1 -0.1)\">\r\n      <defs>\r\n       <path d=\"M 9.8125 72.90625 \r\nL 19.671875 72.90625 \r\nL 19.671875 8.296875 \r\nL 55.171875 8.296875 \r\nL 55.171875 0 \r\nL 9.8125 0 \r\nz\r\n\" id=\"DejaVuSans-76\"/>\r\n       <path d=\"M 44.28125 53.078125 \r\nL 44.28125 44.578125 \r\nQ 40.484375 46.53125 36.375 47.5 \r\nQ 32.28125 48.484375 27.875 48.484375 \r\nQ 21.1875 48.484375 17.84375 46.4375 \r\nQ 14.5 44.390625 14.5 40.28125 \r\nQ 14.5 37.15625 16.890625 35.375 \r\nQ 19.28125 33.59375 26.515625 31.984375 \r\nL 29.59375 31.296875 \r\nQ 39.15625 29.25 43.1875 25.515625 \r\nQ 47.21875 21.78125 47.21875 15.09375 \r\nQ 47.21875 7.46875 41.1875 3.015625 \r\nQ 35.15625 -1.421875 24.609375 -1.421875 \r\nQ 20.21875 -1.421875 15.453125 -0.5625 \r\nQ 10.6875 0.296875 5.421875 2 \r\nL 5.421875 11.28125 \r\nQ 10.40625 8.6875 15.234375 7.390625 \r\nQ 20.0625 6.109375 24.8125 6.109375 \r\nQ 31.15625 6.109375 34.5625 8.28125 \r\nQ 37.984375 10.453125 37.984375 14.40625 \r\nQ 37.984375 18.0625 35.515625 20.015625 \r\nQ 33.0625 21.96875 24.703125 23.78125 \r\nL 21.578125 24.515625 \r\nQ 13.234375 26.265625 9.515625 29.90625 \r\nQ 5.8125 33.546875 5.8125 39.890625 \r\nQ 5.8125 47.609375 11.28125 51.796875 \r\nQ 16.75 56 26.8125 56 \r\nQ 31.78125 56 36.171875 55.265625 \r\nQ 40.578125 54.546875 44.28125 53.078125 \r\nz\r\n\" id=\"DejaVuSans-115\"/>\r\n      </defs>\r\n      <use xlink:href=\"#DejaVuSans-76\"/>\r\n      <use x=\"53.962891\" xlink:href=\"#DejaVuSans-111\"/>\r\n      <use x=\"115.144531\" xlink:href=\"#DejaVuSans-115\"/>\r\n      <use x=\"167.244141\" xlink:href=\"#DejaVuSans-115\"/>\r\n     </g>\r\n    </g>\r\n   </g>\r\n   <g id=\"line2d_25\">\r\n    <path clip-path=\"url(#p03a1b63ca7)\" d=\"M 59.921746 62.738538 \r\nL 63.182452 73.701141 \r\nL 66.443158 89.962545 \r\nL 69.703865 106.935643 \r\nL 72.964571 121.21065 \r\nL 76.225277 132.14886 \r\nL 79.485983 140.792326 \r\nL 82.74669 147.196779 \r\nL 86.007396 152.084538 \r\nL 89.268102 155.870923 \r\nL 92.528808 158.881587 \r\nL 95.789514 161.298234 \r\nL 99.050221 163.183717 \r\nL 102.310927 164.763416 \r\nL 105.571633 165.978799 \r\nL 108.832339 167.037133 \r\nL 112.093046 167.926513 \r\nL 115.353752 168.650664 \r\nL 118.614458 169.260512 \r\nL 121.875164 169.797151 \r\nL 125.135871 170.268562 \r\nL 128.396577 170.658697 \r\nL 131.657283 170.975276 \r\nL 134.917989 171.287904 \r\nL 138.178696 171.552753 \r\nL 141.439402 171.773664 \r\nL 144.700108 171.978258 \r\nL 147.960814 172.152269 \r\nL 151.22152 172.316871 \r\nL 154.482227 172.4616 \r\nL 157.742933 172.587241 \r\nL 161.003639 172.704098 \r\nL 164.264345 172.805888 \r\nL 167.525052 172.902859 \r\nL 170.785758 172.990318 \r\nL 174.046464 173.0645 \r\nL 177.30717 173.134791 \r\nL 180.567877 173.203671 \r\nL 183.828583 173.258914 \r\nL 187.089289 173.316065 \r\nL 190.349995 173.363098 \r\nL 193.610702 173.409524 \r\nL 196.871408 173.453165 \r\nL 200.132114 173.490486 \r\nL 203.39282 173.527577 \r\nL 206.653526 173.559553 \r\nL 209.914233 173.591413 \r\nL 213.174939 173.620324 \r\nL 216.435645 173.645773 \r\nL 219.696351 173.672601 \r\nL 222.957058 173.695182 \r\nL 226.217764 173.717405 \r\nL 229.47847 173.737505 \r\nL 232.739176 173.756959 \r\nL 235.999883 173.774018 \r\nL 239.260589 173.790351 \r\nL 242.521295 173.806318 \r\nL 245.782001 173.820204 \r\nL 249.042708 173.83435 \r\nL 252.303414 173.846376 \r\nL 255.56412 173.858288 \r\nL 258.824826 173.869869 \r\nL 262.085532 173.880755 \r\nL 265.346239 173.891044 \r\nL 268.606945 173.900395 \r\nL 271.867651 173.909285 \r\nL 275.128357 173.918032 \r\nL 278.389064 173.925685 \r\nL 281.64977 173.933724 \r\nL 284.910476 173.940681 \r\nL 288.171182 173.947367 \r\nL 291.431889 173.953242 \r\nL 294.692595 173.959685 \r\nL 297.953301 173.965434 \r\nL 301.214007 173.971049 \r\nL 304.474714 173.976144 \r\nL 307.73542 173.980808 \r\nL 310.996126 173.98527 \r\nL 314.256832 173.989963 \r\nL 317.517539 173.994161 \r\nL 320.778245 173.998005 \r\nL 324.038951 174.001852 \r\nL 327.299657 174.005536 \r\nL 330.560363 174.008814 \r\nL 333.82107 174.011817 \r\nL 337.081776 174.014907 \r\nL 340.342482 174.017658 \r\nL 343.603188 174.020661 \r\nL 346.863895 174.023303 \r\nL 350.124601 174.02582 \r\nL 353.385307 174.028196 \r\nL 356.646013 174.030605 \r\nL 359.90672 174.032703 \r\nL 363.167426 174.034599 \r\nL 366.428132 174.036727 \r\nL 369.688838 174.038596 \r\nL 372.949545 174.040542 \r\nL 376.210251 174.042044 \r\nL 379.470957 174.043745 \r\nL 382.731663 174.045365 \r\n\" style=\"fill:none;stroke:#1f77b4;stroke-linecap:square;stroke-width:1.5;\"/>\r\n   </g>\r\n   <g id=\"line2d_26\">\r\n    <path clip-path=\"url(#p03a1b63ca7)\" d=\"M 59.921746 65.135123 \r\nL 63.182452 72.296515 \r\nL 66.443158 81.041522 \r\nL 69.703865 88.710178 \r\nL 72.964571 94.660874 \r\nL 76.225277 99.446953 \r\nL 79.485983 102.287165 \r\nL 82.74669 104.325959 \r\nL 86.007396 105.089807 \r\nL 89.268102 105.871836 \r\nL 92.528808 105.796037 \r\nL 95.789514 105.329981 \r\nL 99.050221 104.977921 \r\nL 102.310927 104.179911 \r\nL 105.571633 103.25856 \r\nL 108.832339 102.180688 \r\nL 112.093046 101.127083 \r\nL 115.353752 100.1964 \r\nL 118.614458 99.023322 \r\nL 121.875164 97.867964 \r\nL 125.135871 96.684685 \r\nL 128.396577 95.398171 \r\nL 131.657283 94.209273 \r\nL 134.917989 92.952648 \r\nL 138.178696 91.724344 \r\nL 141.439402 90.664401 \r\nL 144.700108 89.432972 \r\nL 147.960814 88.350808 \r\nL 151.22152 87.10685 \r\nL 154.482227 85.973382 \r\nL 157.742933 84.976193 \r\nL 161.003639 83.94717 \r\nL 164.264345 82.880851 \r\nL 167.525052 81.632362 \r\nL 170.785758 80.545883 \r\nL 174.046464 79.443267 \r\nL 177.30717 78.452377 \r\nL 180.567877 77.40093 \r\nL 183.828583 76.366347 \r\nL 187.089289 75.285048 \r\nL 190.349995 74.272287 \r\nL 193.610702 73.358791 \r\nL 196.871408 72.274673 \r\nL 200.132114 71.447366 \r\nL 203.39282 70.445901 \r\nL 206.653526 69.422652 \r\nL 209.914233 68.426727 \r\nL 213.174939 67.553929 \r\nL 216.435645 66.572322 \r\nL 219.696351 65.636604 \r\nL 222.957058 64.661141 \r\nL 226.217764 63.757947 \r\nL 229.47847 62.873825 \r\nL 232.739176 61.944611 \r\nL 235.999883 61.041622 \r\nL 239.260589 60.11092 \r\nL 242.521295 59.188802 \r\nL 245.782001 58.308694 \r\nL 249.042708 57.379927 \r\nL 252.303414 56.539478 \r\nL 255.56412 55.593068 \r\nL 258.824826 54.785766 \r\nL 262.085532 53.896512 \r\nL 265.346239 52.993931 \r\nL 268.606945 52.102976 \r\nL 271.867651 51.271732 \r\nL 275.128357 50.451736 \r\nL 278.389064 49.52013 \r\nL 281.64977 48.689742 \r\nL 284.910476 47.846037 \r\nL 288.171182 46.988102 \r\nL 291.431889 46.087543 \r\nL 294.692595 45.275293 \r\nL 297.953301 44.46942 \r\nL 301.214007 43.603076 \r\nL 304.474714 42.797261 \r\nL 307.73542 41.990426 \r\nL 310.996126 41.171974 \r\nL 314.256832 40.320026 \r\nL 317.517539 39.46735 \r\nL 320.778245 38.69022 \r\nL 324.038951 37.828824 \r\nL 327.299657 37.018858 \r\nL 330.560363 36.259798 \r\nL 333.82107 35.394047 \r\nL 337.081776 34.686622 \r\nL 340.342482 33.753947 \r\nL 343.603188 33.061996 \r\nL 346.863895 32.128193 \r\nL 350.124601 31.343043 \r\nL 353.385307 30.566205 \r\nL 356.646013 29.713907 \r\nL 359.90672 28.947936 \r\nL 363.167426 28.162368 \r\nL 366.428132 27.262908 \r\nL 369.688838 26.60247 \r\nL 372.949545 25.736049 \r\nL 376.210251 24.780103 \r\nL 379.470957 24.073484 \r\nL 382.731663 23.272316 \r\n\" style=\"fill:none;stroke:#ff7f0e;stroke-linecap:square;stroke-width:1.5;\"/>\r\n   </g>\r\n   <g id=\"patch_3\">\r\n    <path d=\"M 43.78125 174.079219 \r\nL 43.78125 10.999219 \r\n\" style=\"fill:none;stroke:#000000;stroke-linecap:square;stroke-linejoin:miter;stroke-width:0.8;\"/>\r\n   </g>\r\n   <g id=\"patch_4\">\r\n    <path d=\"M 398.872159 174.079219 \r\nL 398.872159 10.999219 \r\n\" style=\"fill:none;stroke:#000000;stroke-linecap:square;stroke-linejoin:miter;stroke-width:0.8;\"/>\r\n   </g>\r\n   <g id=\"patch_5\">\r\n    <path d=\"M 43.78125 174.079219 \r\nL 398.872159 174.079219 \r\n\" style=\"fill:none;stroke:#000000;stroke-linecap:square;stroke-linejoin:miter;stroke-width:0.8;\"/>\r\n   </g>\r\n   <g id=\"patch_6\">\r\n    <path d=\"M 43.78125 10.999219 \r\nL 398.872159 10.999219 \r\n\" style=\"fill:none;stroke:#000000;stroke-linecap:square;stroke-linejoin:miter;stroke-width:0.8;\"/>\r\n   </g>\r\n   <g id=\"legend_1\">\r\n    <g id=\"patch_7\">\r\n     <path d=\"M 50.78125 48.633594 \r\nL 121.921875 48.633594 \r\nQ 123.921875 48.633594 123.921875 46.633594 \r\nL 123.921875 17.999219 \r\nQ 123.921875 15.999219 121.921875 15.999219 \r\nL 50.78125 15.999219 \r\nQ 48.78125 15.999219 48.78125 17.999219 \r\nL 48.78125 46.633594 \r\nQ 48.78125 48.633594 50.78125 48.633594 \r\nz\r\n\" style=\"fill:#ffffff;opacity:0.8;stroke:#cccccc;stroke-linejoin:miter;\"/>\r\n    </g>\r\n    <g id=\"line2d_27\">\r\n     <path d=\"M 52.78125 24.097656 \r\nL 72.78125 24.097656 \r\n\" style=\"fill:none;stroke:#1f77b4;stroke-linecap:square;stroke-width:1.5;\"/>\r\n    </g>\r\n    <g id=\"line2d_28\"/>\r\n    <g id=\"text_15\">\r\n     <!-- loss -->\r\n     <g transform=\"translate(80.78125 27.597656)scale(0.1 -0.1)\">\r\n      <defs>\r\n       <path d=\"M 9.421875 75.984375 \r\nL 18.40625 75.984375 \r\nL 18.40625 0 \r\nL 9.421875 0 \r\nz\r\n\" id=\"DejaVuSans-108\"/>\r\n      </defs>\r\n      <use xlink:href=\"#DejaVuSans-108\"/>\r\n      <use x=\"27.783203\" xlink:href=\"#DejaVuSans-111\"/>\r\n      <use x=\"88.964844\" xlink:href=\"#DejaVuSans-115\"/>\r\n      <use x=\"141.064453\" xlink:href=\"#DejaVuSans-115\"/>\r\n     </g>\r\n    </g>\r\n    <g id=\"line2d_29\">\r\n     <path d=\"M 52.78125 38.775781 \r\nL 72.78125 38.775781 \r\n\" style=\"fill:none;stroke:#ff7f0e;stroke-linecap:square;stroke-width:1.5;\"/>\r\n    </g>\r\n    <g id=\"line2d_30\"/>\r\n    <g id=\"text_16\">\r\n     <!-- val_loss -->\r\n     <g transform=\"translate(80.78125 42.275781)scale(0.1 -0.1)\">\r\n      <defs>\r\n       <path d=\"M 2.984375 54.6875 \r\nL 12.5 54.6875 \r\nL 29.59375 8.796875 \r\nL 46.6875 54.6875 \r\nL 56.203125 54.6875 \r\nL 35.6875 0 \r\nL 23.484375 0 \r\nz\r\n\" id=\"DejaVuSans-118\"/>\r\n       <path d=\"M 34.28125 27.484375 \r\nQ 23.390625 27.484375 19.1875 25 \r\nQ 14.984375 22.515625 14.984375 16.5 \r\nQ 14.984375 11.71875 18.140625 8.90625 \r\nQ 21.296875 6.109375 26.703125 6.109375 \r\nQ 34.1875 6.109375 38.703125 11.40625 \r\nQ 43.21875 16.703125 43.21875 25.484375 \r\nL 43.21875 27.484375 \r\nz\r\nM 52.203125 31.203125 \r\nL 52.203125 0 \r\nL 43.21875 0 \r\nL 43.21875 8.296875 \r\nQ 40.140625 3.328125 35.546875 0.953125 \r\nQ 30.953125 -1.421875 24.3125 -1.421875 \r\nQ 15.921875 -1.421875 10.953125 3.296875 \r\nQ 6 8.015625 6 15.921875 \r\nQ 6 25.140625 12.171875 29.828125 \r\nQ 18.359375 34.515625 30.609375 34.515625 \r\nL 43.21875 34.515625 \r\nL 43.21875 35.40625 \r\nQ 43.21875 41.609375 39.140625 45 \r\nQ 35.0625 48.390625 27.6875 48.390625 \r\nQ 23 48.390625 18.546875 47.265625 \r\nQ 14.109375 46.140625 10.015625 43.890625 \r\nL 10.015625 52.203125 \r\nQ 14.9375 54.109375 19.578125 55.046875 \r\nQ 24.21875 56 28.609375 56 \r\nQ 40.484375 56 46.34375 49.84375 \r\nQ 52.203125 43.703125 52.203125 31.203125 \r\nz\r\n\" id=\"DejaVuSans-97\"/>\r\n       <path d=\"M 50.984375 -16.609375 \r\nL 50.984375 -23.578125 \r\nL -0.984375 -23.578125 \r\nL -0.984375 -16.609375 \r\nz\r\n\" id=\"DejaVuSans-95\"/>\r\n      </defs>\r\n      <use xlink:href=\"#DejaVuSans-118\"/>\r\n      <use x=\"59.179688\" xlink:href=\"#DejaVuSans-97\"/>\r\n      <use x=\"120.458984\" xlink:href=\"#DejaVuSans-108\"/>\r\n      <use x=\"148.242188\" xlink:href=\"#DejaVuSans-95\"/>\r\n      <use x=\"198.242188\" xlink:href=\"#DejaVuSans-108\"/>\r\n      <use x=\"226.025391\" xlink:href=\"#DejaVuSans-111\"/>\r\n      <use x=\"287.207031\" xlink:href=\"#DejaVuSans-115\"/>\r\n      <use x=\"339.306641\" xlink:href=\"#DejaVuSans-115\"/>\r\n     </g>\r\n    </g>\r\n   </g>\r\n  </g>\r\n  <g id=\"axes_2\">\r\n   <g id=\"patch_8\">\r\n    <path d=\"M 469.890341 174.079219 \r\nL 824.98125 174.079219 \r\nL 824.98125 10.999219 \r\nL 469.890341 10.999219 \r\nz\r\n\" style=\"fill:#ffffff;\"/>\r\n   </g>\r\n   <g id=\"matplotlib.axis_3\">\r\n    <g id=\"xtick_7\">\r\n     <g id=\"line2d_31\">\r\n      <path clip-path=\"url(#p0f2bd19506)\" d=\"M 486.030837 174.079219 \r\nL 486.030837 10.999219 \r\n\" style=\"fill:none;stroke:#b0b0b0;stroke-linecap:square;stroke-width:0.8;\"/>\r\n     </g>\r\n     <g id=\"line2d_32\">\r\n      <g>\r\n       <use style=\"stroke:#000000;stroke-width:0.8;\" x=\"486.030837\" xlink:href=\"#m8969eaf5cf\" y=\"174.079219\"/>\r\n      </g>\r\n     </g>\r\n     <g id=\"text_17\">\r\n      <!-- 0 -->\r\n      <g transform=\"translate(482.849587 188.677656)scale(0.1 -0.1)\">\r\n       <use xlink:href=\"#DejaVuSans-48\"/>\r\n      </g>\r\n     </g>\r\n    </g>\r\n    <g id=\"xtick_8\">\r\n     <g id=\"line2d_33\">\r\n      <path clip-path=\"url(#p0f2bd19506)\" d=\"M 551.244961 174.079219 \r\nL 551.244961 10.999219 \r\n\" style=\"fill:none;stroke:#b0b0b0;stroke-linecap:square;stroke-width:0.8;\"/>\r\n     </g>\r\n     <g id=\"line2d_34\">\r\n      <g>\r\n       <use style=\"stroke:#000000;stroke-width:0.8;\" x=\"551.244961\" xlink:href=\"#m8969eaf5cf\" y=\"174.079219\"/>\r\n      </g>\r\n     </g>\r\n     <g id=\"text_18\">\r\n      <!-- 20 -->\r\n      <g transform=\"translate(544.882461 188.677656)scale(0.1 -0.1)\">\r\n       <use xlink:href=\"#DejaVuSans-50\"/>\r\n       <use x=\"63.623047\" xlink:href=\"#DejaVuSans-48\"/>\r\n      </g>\r\n     </g>\r\n    </g>\r\n    <g id=\"xtick_9\">\r\n     <g id=\"line2d_35\">\r\n      <path clip-path=\"url(#p0f2bd19506)\" d=\"M 616.459086 174.079219 \r\nL 616.459086 10.999219 \r\n\" style=\"fill:none;stroke:#b0b0b0;stroke-linecap:square;stroke-width:0.8;\"/>\r\n     </g>\r\n     <g id=\"line2d_36\">\r\n      <g>\r\n       <use style=\"stroke:#000000;stroke-width:0.8;\" x=\"616.459086\" xlink:href=\"#m8969eaf5cf\" y=\"174.079219\"/>\r\n      </g>\r\n     </g>\r\n     <g id=\"text_19\">\r\n      <!-- 40 -->\r\n      <g transform=\"translate(610.096586 188.677656)scale(0.1 -0.1)\">\r\n       <use xlink:href=\"#DejaVuSans-52\"/>\r\n       <use x=\"63.623047\" xlink:href=\"#DejaVuSans-48\"/>\r\n      </g>\r\n     </g>\r\n    </g>\r\n    <g id=\"xtick_10\">\r\n     <g id=\"line2d_37\">\r\n      <path clip-path=\"url(#p0f2bd19506)\" d=\"M 681.673211 174.079219 \r\nL 681.673211 10.999219 \r\n\" style=\"fill:none;stroke:#b0b0b0;stroke-linecap:square;stroke-width:0.8;\"/>\r\n     </g>\r\n     <g id=\"line2d_38\">\r\n      <g>\r\n       <use style=\"stroke:#000000;stroke-width:0.8;\" x=\"681.673211\" xlink:href=\"#m8969eaf5cf\" y=\"174.079219\"/>\r\n      </g>\r\n     </g>\r\n     <g id=\"text_20\">\r\n      <!-- 60 -->\r\n      <g transform=\"translate(675.310711 188.677656)scale(0.1 -0.1)\">\r\n       <use xlink:href=\"#DejaVuSans-54\"/>\r\n       <use x=\"63.623047\" xlink:href=\"#DejaVuSans-48\"/>\r\n      </g>\r\n     </g>\r\n    </g>\r\n    <g id=\"xtick_11\">\r\n     <g id=\"line2d_39\">\r\n      <path clip-path=\"url(#p0f2bd19506)\" d=\"M 746.887336 174.079219 \r\nL 746.887336 10.999219 \r\n\" style=\"fill:none;stroke:#b0b0b0;stroke-linecap:square;stroke-width:0.8;\"/>\r\n     </g>\r\n     <g id=\"line2d_40\">\r\n      <g>\r\n       <use style=\"stroke:#000000;stroke-width:0.8;\" x=\"746.887336\" xlink:href=\"#m8969eaf5cf\" y=\"174.079219\"/>\r\n      </g>\r\n     </g>\r\n     <g id=\"text_21\">\r\n      <!-- 80 -->\r\n      <g transform=\"translate(740.524836 188.677656)scale(0.1 -0.1)\">\r\n       <use xlink:href=\"#DejaVuSans-56\"/>\r\n       <use x=\"63.623047\" xlink:href=\"#DejaVuSans-48\"/>\r\n      </g>\r\n     </g>\r\n    </g>\r\n    <g id=\"xtick_12\">\r\n     <g id=\"line2d_41\">\r\n      <path clip-path=\"url(#p0f2bd19506)\" d=\"M 812.10146 174.079219 \r\nL 812.10146 10.999219 \r\n\" style=\"fill:none;stroke:#b0b0b0;stroke-linecap:square;stroke-width:0.8;\"/>\r\n     </g>\r\n     <g id=\"line2d_42\">\r\n      <g>\r\n       <use style=\"stroke:#000000;stroke-width:0.8;\" x=\"812.10146\" xlink:href=\"#m8969eaf5cf\" y=\"174.079219\"/>\r\n      </g>\r\n     </g>\r\n     <g id=\"text_22\">\r\n      <!-- 100 -->\r\n      <g transform=\"translate(802.55771 188.677656)scale(0.1 -0.1)\">\r\n       <use xlink:href=\"#DejaVuSans-49\"/>\r\n       <use x=\"63.623047\" xlink:href=\"#DejaVuSans-48\"/>\r\n       <use x=\"127.246094\" xlink:href=\"#DejaVuSans-48\"/>\r\n      </g>\r\n     </g>\r\n    </g>\r\n    <g id=\"text_23\">\r\n     <!-- Epoch -->\r\n     <g transform=\"translate(632.124858 202.355781)scale(0.1 -0.1)\">\r\n      <use xlink:href=\"#DejaVuSans-69\"/>\r\n      <use x=\"63.183594\" xlink:href=\"#DejaVuSans-112\"/>\r\n      <use x=\"126.660156\" xlink:href=\"#DejaVuSans-111\"/>\r\n      <use x=\"187.841797\" xlink:href=\"#DejaVuSans-99\"/>\r\n      <use x=\"242.822266\" xlink:href=\"#DejaVuSans-104\"/>\r\n     </g>\r\n    </g>\r\n   </g>\r\n   <g id=\"matplotlib.axis_4\">\r\n    <g id=\"ytick_7\">\r\n     <g id=\"line2d_43\">\r\n      <path clip-path=\"url(#p0f2bd19506)\" d=\"M 469.890341 174.079219 \r\nL 824.98125 174.079219 \r\n\" style=\"fill:none;stroke:#b0b0b0;stroke-linecap:square;stroke-width:0.8;\"/>\r\n     </g>\r\n     <g id=\"line2d_44\">\r\n      <g>\r\n       <use style=\"stroke:#000000;stroke-width:0.8;\" x=\"469.890341\" xlink:href=\"#m637245d8af\" y=\"174.079219\"/>\r\n      </g>\r\n     </g>\r\n     <g id=\"text_24\">\r\n      <!-- 0.0 -->\r\n      <g transform=\"translate(446.987216 177.878437)scale(0.1 -0.1)\">\r\n       <use xlink:href=\"#DejaVuSans-48\"/>\r\n       <use x=\"63.623047\" xlink:href=\"#DejaVuSans-46\"/>\r\n       <use x=\"95.410156\" xlink:href=\"#DejaVuSans-48\"/>\r\n      </g>\r\n     </g>\r\n    </g>\r\n    <g id=\"ytick_8\">\r\n     <g id=\"line2d_45\">\r\n      <path clip-path=\"url(#p0f2bd19506)\" d=\"M 469.890341 141.463219 \r\nL 824.98125 141.463219 \r\n\" style=\"fill:none;stroke:#b0b0b0;stroke-linecap:square;stroke-width:0.8;\"/>\r\n     </g>\r\n     <g id=\"line2d_46\">\r\n      <g>\r\n       <use style=\"stroke:#000000;stroke-width:0.8;\" x=\"469.890341\" xlink:href=\"#m637245d8af\" y=\"141.463219\"/>\r\n      </g>\r\n     </g>\r\n     <g id=\"text_25\">\r\n      <!-- 0.2 -->\r\n      <g transform=\"translate(446.987216 145.262437)scale(0.1 -0.1)\">\r\n       <use xlink:href=\"#DejaVuSans-48\"/>\r\n       <use x=\"63.623047\" xlink:href=\"#DejaVuSans-46\"/>\r\n       <use x=\"95.410156\" xlink:href=\"#DejaVuSans-50\"/>\r\n      </g>\r\n     </g>\r\n    </g>\r\n    <g id=\"ytick_9\">\r\n     <g id=\"line2d_47\">\r\n      <path clip-path=\"url(#p0f2bd19506)\" d=\"M 469.890341 108.847219 \r\nL 824.98125 108.847219 \r\n\" style=\"fill:none;stroke:#b0b0b0;stroke-linecap:square;stroke-width:0.8;\"/>\r\n     </g>\r\n     <g id=\"line2d_48\">\r\n      <g>\r\n       <use style=\"stroke:#000000;stroke-width:0.8;\" x=\"469.890341\" xlink:href=\"#m637245d8af\" y=\"108.847219\"/>\r\n      </g>\r\n     </g>\r\n     <g id=\"text_26\">\r\n      <!-- 0.4 -->\r\n      <g transform=\"translate(446.987216 112.646437)scale(0.1 -0.1)\">\r\n       <use xlink:href=\"#DejaVuSans-48\"/>\r\n       <use x=\"63.623047\" xlink:href=\"#DejaVuSans-46\"/>\r\n       <use x=\"95.410156\" xlink:href=\"#DejaVuSans-52\"/>\r\n      </g>\r\n     </g>\r\n    </g>\r\n    <g id=\"ytick_10\">\r\n     <g id=\"line2d_49\">\r\n      <path clip-path=\"url(#p0f2bd19506)\" d=\"M 469.890341 76.231219 \r\nL 824.98125 76.231219 \r\n\" style=\"fill:none;stroke:#b0b0b0;stroke-linecap:square;stroke-width:0.8;\"/>\r\n     </g>\r\n     <g id=\"line2d_50\">\r\n      <g>\r\n       <use style=\"stroke:#000000;stroke-width:0.8;\" x=\"469.890341\" xlink:href=\"#m637245d8af\" y=\"76.231219\"/>\r\n      </g>\r\n     </g>\r\n     <g id=\"text_27\">\r\n      <!-- 0.6 -->\r\n      <g transform=\"translate(446.987216 80.030437)scale(0.1 -0.1)\">\r\n       <use xlink:href=\"#DejaVuSans-48\"/>\r\n       <use x=\"63.623047\" xlink:href=\"#DejaVuSans-46\"/>\r\n       <use x=\"95.410156\" xlink:href=\"#DejaVuSans-54\"/>\r\n      </g>\r\n     </g>\r\n    </g>\r\n    <g id=\"ytick_11\">\r\n     <g id=\"line2d_51\">\r\n      <path clip-path=\"url(#p0f2bd19506)\" d=\"M 469.890341 43.615219 \r\nL 824.98125 43.615219 \r\n\" style=\"fill:none;stroke:#b0b0b0;stroke-linecap:square;stroke-width:0.8;\"/>\r\n     </g>\r\n     <g id=\"line2d_52\">\r\n      <g>\r\n       <use style=\"stroke:#000000;stroke-width:0.8;\" x=\"469.890341\" xlink:href=\"#m637245d8af\" y=\"43.615219\"/>\r\n      </g>\r\n     </g>\r\n     <g id=\"text_28\">\r\n      <!-- 0.8 -->\r\n      <g transform=\"translate(446.987216 47.414437)scale(0.1 -0.1)\">\r\n       <use xlink:href=\"#DejaVuSans-48\"/>\r\n       <use x=\"63.623047\" xlink:href=\"#DejaVuSans-46\"/>\r\n       <use x=\"95.410156\" xlink:href=\"#DejaVuSans-56\"/>\r\n      </g>\r\n     </g>\r\n    </g>\r\n    <g id=\"ytick_12\">\r\n     <g id=\"line2d_53\">\r\n      <path clip-path=\"url(#p0f2bd19506)\" d=\"M 469.890341 10.999219 \r\nL 824.98125 10.999219 \r\n\" style=\"fill:none;stroke:#b0b0b0;stroke-linecap:square;stroke-width:0.8;\"/>\r\n     </g>\r\n     <g id=\"line2d_54\">\r\n      <g>\r\n       <use style=\"stroke:#000000;stroke-width:0.8;\" x=\"469.890341\" xlink:href=\"#m637245d8af\" y=\"10.999219\"/>\r\n      </g>\r\n     </g>\r\n     <g id=\"text_29\">\r\n      <!-- 1.0 -->\r\n      <g transform=\"translate(446.987216 14.798437)scale(0.1 -0.1)\">\r\n       <use xlink:href=\"#DejaVuSans-49\"/>\r\n       <use x=\"63.623047\" xlink:href=\"#DejaVuSans-46\"/>\r\n       <use x=\"95.410156\" xlink:href=\"#DejaVuSans-48\"/>\r\n      </g>\r\n     </g>\r\n    </g>\r\n    <g id=\"text_30\">\r\n     <!-- Accuracy -->\r\n     <g transform=\"translate(440.907528 115.367344)rotate(-90)scale(0.1 -0.1)\">\r\n      <defs>\r\n       <path d=\"M 34.1875 63.1875 \r\nL 20.796875 26.90625 \r\nL 47.609375 26.90625 \r\nz\r\nM 28.609375 72.90625 \r\nL 39.796875 72.90625 \r\nL 67.578125 0 \r\nL 57.328125 0 \r\nL 50.6875 18.703125 \r\nL 17.828125 18.703125 \r\nL 11.1875 0 \r\nL 0.78125 0 \r\nz\r\n\" id=\"DejaVuSans-65\"/>\r\n       <path d=\"M 8.5 21.578125 \r\nL 8.5 54.6875 \r\nL 17.484375 54.6875 \r\nL 17.484375 21.921875 \r\nQ 17.484375 14.15625 20.5 10.265625 \r\nQ 23.53125 6.390625 29.59375 6.390625 \r\nQ 36.859375 6.390625 41.078125 11.03125 \r\nQ 45.3125 15.671875 45.3125 23.6875 \r\nL 45.3125 54.6875 \r\nL 54.296875 54.6875 \r\nL 54.296875 0 \r\nL 45.3125 0 \r\nL 45.3125 8.40625 \r\nQ 42.046875 3.421875 37.71875 1 \r\nQ 33.40625 -1.421875 27.6875 -1.421875 \r\nQ 18.265625 -1.421875 13.375 4.4375 \r\nQ 8.5 10.296875 8.5 21.578125 \r\nz\r\nM 31.109375 56 \r\nz\r\n\" id=\"DejaVuSans-117\"/>\r\n       <path d=\"M 41.109375 46.296875 \r\nQ 39.59375 47.171875 37.8125 47.578125 \r\nQ 36.03125 48 33.890625 48 \r\nQ 26.265625 48 22.1875 43.046875 \r\nQ 18.109375 38.09375 18.109375 28.8125 \r\nL 18.109375 0 \r\nL 9.078125 0 \r\nL 9.078125 54.6875 \r\nL 18.109375 54.6875 \r\nL 18.109375 46.1875 \r\nQ 20.953125 51.171875 25.484375 53.578125 \r\nQ 30.03125 56 36.53125 56 \r\nQ 37.453125 56 38.578125 55.875 \r\nQ 39.703125 55.765625 41.0625 55.515625 \r\nz\r\n\" id=\"DejaVuSans-114\"/>\r\n       <path d=\"M 32.171875 -5.078125 \r\nQ 28.375 -14.84375 24.75 -17.8125 \r\nQ 21.140625 -20.796875 15.09375 -20.796875 \r\nL 7.90625 -20.796875 \r\nL 7.90625 -13.28125 \r\nL 13.1875 -13.28125 \r\nQ 16.890625 -13.28125 18.9375 -11.515625 \r\nQ 21 -9.765625 23.484375 -3.21875 \r\nL 25.09375 0.875 \r\nL 2.984375 54.6875 \r\nL 12.5 54.6875 \r\nL 29.59375 11.921875 \r\nL 46.6875 54.6875 \r\nL 56.203125 54.6875 \r\nz\r\n\" id=\"DejaVuSans-121\"/>\r\n      </defs>\r\n      <use xlink:href=\"#DejaVuSans-65\"/>\r\n      <use x=\"66.658203\" xlink:href=\"#DejaVuSans-99\"/>\r\n      <use x=\"121.638672\" xlink:href=\"#DejaVuSans-99\"/>\r\n      <use x=\"176.619141\" xlink:href=\"#DejaVuSans-117\"/>\r\n      <use x=\"239.998047\" xlink:href=\"#DejaVuSans-114\"/>\r\n      <use x=\"281.111328\" xlink:href=\"#DejaVuSans-97\"/>\r\n      <use x=\"342.390625\" xlink:href=\"#DejaVuSans-99\"/>\r\n      <use x=\"397.371094\" xlink:href=\"#DejaVuSans-121\"/>\r\n     </g>\r\n    </g>\r\n   </g>\r\n   <g id=\"line2d_55\">\r\n    <path clip-path=\"url(#p0f2bd19506)\" d=\"M 486.030837 80.362577 \r\nL 489.291543 42.745462 \r\nL 492.552249 30.133942 \r\nL 495.812955 23.393295 \r\nL 499.073662 19.479376 \r\nL 502.334368 17.9573 \r\nL 505.595074 14.260816 \r\nL 508.85578 13.39106 \r\nL 512.116487 12.086418 \r\nL 515.377193 12.086418 \r\nL 518.637899 11.65154 \r\nL 521.898605 11.434096 \r\nL 525.159312 11.434096 \r\nL 528.420018 11.434096 \r\nL 531.680724 11.434096 \r\nL 534.94143 11.216662 \r\nL 538.202137 10.999219 \r\nL 541.462843 10.999219 \r\nL 544.723549 10.999219 \r\nL 547.984255 10.999219 \r\nL 551.244961 10.999219 \r\nL 554.505668 10.999219 \r\nL 557.766374 10.999219 \r\nL 561.02708 10.999219 \r\nL 564.287786 10.999219 \r\nL 567.548493 10.999219 \r\nL 570.809199 10.999219 \r\nL 574.069905 10.999219 \r\nL 577.330611 10.999219 \r\nL 580.591318 10.999219 \r\nL 583.852024 10.999219 \r\nL 587.11273 10.999219 \r\nL 590.373436 10.999219 \r\nL 593.634143 10.999219 \r\nL 596.894849 10.999219 \r\nL 600.155555 10.999219 \r\nL 603.416261 10.999219 \r\nL 606.676968 10.999219 \r\nL 609.937674 10.999219 \r\nL 613.19838 10.999219 \r\nL 616.459086 10.999219 \r\nL 619.719792 10.999219 \r\nL 622.980499 10.999219 \r\nL 626.241205 10.999219 \r\nL 629.501911 10.999219 \r\nL 632.762617 10.999219 \r\nL 636.023324 10.999219 \r\nL 639.28403 10.999219 \r\nL 642.544736 10.999219 \r\nL 645.805442 10.999219 \r\nL 649.066149 10.999219 \r\nL 652.326855 10.999219 \r\nL 655.587561 10.999219 \r\nL 658.848267 10.999219 \r\nL 662.108974 10.999219 \r\nL 665.36968 10.999219 \r\nL 668.630386 10.999219 \r\nL 671.891092 10.999219 \r\nL 675.151798 10.999219 \r\nL 678.412505 10.999219 \r\nL 681.673211 10.999219 \r\nL 684.933917 10.999219 \r\nL 688.194623 10.999219 \r\nL 691.45533 10.999219 \r\nL 694.716036 10.999219 \r\nL 697.976742 10.999219 \r\nL 701.237448 10.999219 \r\nL 704.498155 10.999219 \r\nL 707.758861 10.999219 \r\nL 711.019567 10.999219 \r\nL 714.280273 10.999219 \r\nL 717.54098 10.999219 \r\nL 720.801686 10.999219 \r\nL 724.062392 10.999219 \r\nL 727.323098 10.999219 \r\nL 730.583804 10.999219 \r\nL 733.844511 10.999219 \r\nL 737.105217 10.999219 \r\nL 740.365923 10.999219 \r\nL 743.626629 10.999219 \r\nL 746.887336 10.999219 \r\nL 750.148042 10.999219 \r\nL 753.408748 10.999219 \r\nL 756.669454 10.999219 \r\nL 759.930161 10.999219 \r\nL 763.190867 10.999219 \r\nL 766.451573 10.999219 \r\nL 769.712279 10.999219 \r\nL 772.972986 10.999219 \r\nL 776.233692 10.999219 \r\nL 779.494398 10.999219 \r\nL 782.755104 10.999219 \r\nL 786.01581 10.999219 \r\nL 789.276517 10.999219 \r\nL 792.537223 10.999219 \r\nL 795.797929 10.999219 \r\nL 799.058635 10.999219 \r\nL 802.319342 10.999219 \r\nL 805.580048 10.999219 \r\nL 808.840754 10.999219 \r\n\" style=\"fill:none;stroke:#1f77b4;stroke-linecap:square;stroke-width:1.5;\"/>\r\n   </g>\r\n   <g id=\"line2d_56\">\r\n    <path clip-path=\"url(#p0f2bd19506)\" d=\"M 486.030837 56.009302 \r\nL 489.291543 52.095375 \r\nL 492.552249 48.833778 \r\nL 495.812955 43.615217 \r\nL 499.073662 41.005941 \r\nL 502.334368 41.005941 \r\nL 505.595074 41.658263 \r\nL 508.85578 40.35362 \r\nL 512.116487 39.701299 \r\nL 515.377193 41.005941 \r\nL 518.637899 39.701299 \r\nL 521.898605 40.35362 \r\nL 525.159312 39.701299 \r\nL 528.420018 39.701299 \r\nL 531.680724 40.35362 \r\nL 534.94143 40.35362 \r\nL 538.202137 40.35362 \r\nL 541.462843 40.35362 \r\nL 544.723549 39.701299 \r\nL 547.984255 40.35362 \r\nL 551.244961 39.701299 \r\nL 554.505668 39.701299 \r\nL 557.766374 39.701299 \r\nL 561.02708 39.701299 \r\nL 564.287786 39.701299 \r\nL 567.548493 39.048977 \r\nL 570.809199 40.35362 \r\nL 574.069905 40.35362 \r\nL 577.330611 40.35362 \r\nL 580.591318 41.005941 \r\nL 583.852024 40.35362 \r\nL 587.11273 39.701299 \r\nL 590.373436 40.35362 \r\nL 593.634143 41.005941 \r\nL 596.894849 41.005941 \r\nL 600.155555 41.005941 \r\nL 603.416261 41.005941 \r\nL 606.676968 41.005941 \r\nL 609.937674 41.005941 \r\nL 613.19838 41.005941 \r\nL 616.459086 41.658263 \r\nL 619.719792 41.658263 \r\nL 622.980499 40.35362 \r\nL 626.241205 42.310574 \r\nL 629.501911 42.310574 \r\nL 632.762617 42.962895 \r\nL 636.023324 42.310574 \r\nL 639.28403 42.310574 \r\nL 642.544736 42.310574 \r\nL 645.805442 42.310574 \r\nL 649.066149 42.310574 \r\nL 652.326855 42.310574 \r\nL 655.587561 42.310574 \r\nL 658.848267 42.310574 \r\nL 662.108974 42.310574 \r\nL 665.36968 42.310574 \r\nL 668.630386 42.310574 \r\nL 671.891092 42.310574 \r\nL 675.151798 42.310574 \r\nL 678.412505 42.310574 \r\nL 681.673211 42.310574 \r\nL 684.933917 42.310574 \r\nL 688.194623 42.962895 \r\nL 691.45533 42.962895 \r\nL 694.716036 42.962895 \r\nL 697.976742 42.962895 \r\nL 701.237448 42.962895 \r\nL 704.498155 42.962895 \r\nL 707.758861 42.962895 \r\nL 711.019567 42.962895 \r\nL 714.280273 42.962895 \r\nL 717.54098 42.962895 \r\nL 720.801686 42.962895 \r\nL 724.062392 42.962895 \r\nL 727.323098 42.962895 \r\nL 730.583804 42.962895 \r\nL 733.844511 42.962895 \r\nL 737.105217 42.962895 \r\nL 740.365923 42.962895 \r\nL 743.626629 42.962895 \r\nL 746.887336 42.962895 \r\nL 750.148042 42.962895 \r\nL 753.408748 42.962895 \r\nL 756.669454 42.962895 \r\nL 759.930161 42.962895 \r\nL 763.190867 42.962895 \r\nL 766.451573 42.962895 \r\nL 769.712279 42.962895 \r\nL 772.972986 42.962895 \r\nL 776.233692 42.962895 \r\nL 779.494398 42.962895 \r\nL 782.755104 42.962895 \r\nL 786.01581 42.962895 \r\nL 789.276517 42.962895 \r\nL 792.537223 42.962895 \r\nL 795.797929 42.962895 \r\nL 799.058635 42.962895 \r\nL 802.319342 42.962895 \r\nL 805.580048 42.962895 \r\nL 808.840754 42.962895 \r\n\" style=\"fill:none;stroke:#ff7f0e;stroke-linecap:square;stroke-width:1.5;\"/>\r\n   </g>\r\n   <g id=\"patch_9\">\r\n    <path d=\"M 469.890341 174.079219 \r\nL 469.890341 10.999219 \r\n\" style=\"fill:none;stroke:#000000;stroke-linecap:square;stroke-linejoin:miter;stroke-width:0.8;\"/>\r\n   </g>\r\n   <g id=\"patch_10\">\r\n    <path d=\"M 824.98125 174.079219 \r\nL 824.98125 10.999219 \r\n\" style=\"fill:none;stroke:#000000;stroke-linecap:square;stroke-linejoin:miter;stroke-width:0.8;\"/>\r\n   </g>\r\n   <g id=\"patch_11\">\r\n    <path d=\"M 469.890341 174.079219 \r\nL 824.98125 174.079219 \r\n\" style=\"fill:none;stroke:#000000;stroke-linecap:square;stroke-linejoin:miter;stroke-width:0.8;\"/>\r\n   </g>\r\n   <g id=\"patch_12\">\r\n    <path d=\"M 469.890341 10.999219 \r\nL 824.98125 10.999219 \r\n\" style=\"fill:none;stroke:#000000;stroke-linecap:square;stroke-linejoin:miter;stroke-width:0.8;\"/>\r\n   </g>\r\n   <g id=\"legend_2\">\r\n    <g id=\"patch_13\">\r\n     <path d=\"M 476.890341 169.079219 \r\nL 607.105966 169.079219 \r\nQ 609.105966 169.079219 609.105966 167.079219 \r\nL 609.105966 138.722969 \r\nQ 609.105966 136.722969 607.105966 136.722969 \r\nL 476.890341 136.722969 \r\nQ 474.890341 136.722969 474.890341 138.722969 \r\nL 474.890341 167.079219 \r\nQ 474.890341 169.079219 476.890341 169.079219 \r\nz\r\n\" style=\"fill:#ffffff;opacity:0.8;stroke:#cccccc;stroke-linejoin:miter;\"/>\r\n    </g>\r\n    <g id=\"line2d_57\">\r\n     <path d=\"M 478.890341 144.821406 \r\nL 498.890341 144.821406 \r\n\" style=\"fill:none;stroke:#1f77b4;stroke-linecap:square;stroke-width:1.5;\"/>\r\n    </g>\r\n    <g id=\"line2d_58\"/>\r\n    <g id=\"text_31\">\r\n     <!-- Accuracy -->\r\n     <g transform=\"translate(506.890341 148.321406)scale(0.1 -0.1)\">\r\n      <use xlink:href=\"#DejaVuSans-65\"/>\r\n      <use x=\"66.658203\" xlink:href=\"#DejaVuSans-99\"/>\r\n      <use x=\"121.638672\" xlink:href=\"#DejaVuSans-99\"/>\r\n      <use x=\"176.619141\" xlink:href=\"#DejaVuSans-117\"/>\r\n      <use x=\"239.998047\" xlink:href=\"#DejaVuSans-114\"/>\r\n      <use x=\"281.111328\" xlink:href=\"#DejaVuSans-97\"/>\r\n      <use x=\"342.390625\" xlink:href=\"#DejaVuSans-99\"/>\r\n      <use x=\"397.371094\" xlink:href=\"#DejaVuSans-121\"/>\r\n     </g>\r\n    </g>\r\n    <g id=\"line2d_59\">\r\n     <path d=\"M 478.890341 159.499531 \r\nL 498.890341 159.499531 \r\n\" style=\"fill:none;stroke:#ff7f0e;stroke-linecap:square;stroke-width:1.5;\"/>\r\n    </g>\r\n    <g id=\"line2d_60\"/>\r\n    <g id=\"text_32\">\r\n     <!-- Validation Accuracy -->\r\n     <g transform=\"translate(506.890341 162.999531)scale(0.1 -0.1)\">\r\n      <defs>\r\n       <path d=\"M 28.609375 0 \r\nL 0.78125 72.90625 \r\nL 11.078125 72.90625 \r\nL 34.1875 11.53125 \r\nL 57.328125 72.90625 \r\nL 67.578125 72.90625 \r\nL 39.796875 0 \r\nz\r\n\" id=\"DejaVuSans-86\"/>\r\n       <path d=\"M 9.421875 54.6875 \r\nL 18.40625 54.6875 \r\nL 18.40625 0 \r\nL 9.421875 0 \r\nz\r\nM 9.421875 75.984375 \r\nL 18.40625 75.984375 \r\nL 18.40625 64.59375 \r\nL 9.421875 64.59375 \r\nz\r\n\" id=\"DejaVuSans-105\"/>\r\n       <path d=\"M 45.40625 46.390625 \r\nL 45.40625 75.984375 \r\nL 54.390625 75.984375 \r\nL 54.390625 0 \r\nL 45.40625 0 \r\nL 45.40625 8.203125 \r\nQ 42.578125 3.328125 38.25 0.953125 \r\nQ 33.9375 -1.421875 27.875 -1.421875 \r\nQ 17.96875 -1.421875 11.734375 6.484375 \r\nQ 5.515625 14.40625 5.515625 27.296875 \r\nQ 5.515625 40.1875 11.734375 48.09375 \r\nQ 17.96875 56 27.875 56 \r\nQ 33.9375 56 38.25 53.625 \r\nQ 42.578125 51.265625 45.40625 46.390625 \r\nz\r\nM 14.796875 27.296875 \r\nQ 14.796875 17.390625 18.875 11.75 \r\nQ 22.953125 6.109375 30.078125 6.109375 \r\nQ 37.203125 6.109375 41.296875 11.75 \r\nQ 45.40625 17.390625 45.40625 27.296875 \r\nQ 45.40625 37.203125 41.296875 42.84375 \r\nQ 37.203125 48.484375 30.078125 48.484375 \r\nQ 22.953125 48.484375 18.875 42.84375 \r\nQ 14.796875 37.203125 14.796875 27.296875 \r\nz\r\n\" id=\"DejaVuSans-100\"/>\r\n       <path d=\"M 18.3125 70.21875 \r\nL 18.3125 54.6875 \r\nL 36.8125 54.6875 \r\nL 36.8125 47.703125 \r\nL 18.3125 47.703125 \r\nL 18.3125 18.015625 \r\nQ 18.3125 11.328125 20.140625 9.421875 \r\nQ 21.96875 7.515625 27.59375 7.515625 \r\nL 36.8125 7.515625 \r\nL 36.8125 0 \r\nL 27.59375 0 \r\nQ 17.1875 0 13.234375 3.875 \r\nQ 9.28125 7.765625 9.28125 18.015625 \r\nL 9.28125 47.703125 \r\nL 2.6875 47.703125 \r\nL 2.6875 54.6875 \r\nL 9.28125 54.6875 \r\nL 9.28125 70.21875 \r\nz\r\n\" id=\"DejaVuSans-116\"/>\r\n       <path d=\"M 54.890625 33.015625 \r\nL 54.890625 0 \r\nL 45.90625 0 \r\nL 45.90625 32.71875 \r\nQ 45.90625 40.484375 42.875 44.328125 \r\nQ 39.84375 48.1875 33.796875 48.1875 \r\nQ 26.515625 48.1875 22.3125 43.546875 \r\nQ 18.109375 38.921875 18.109375 30.90625 \r\nL 18.109375 0 \r\nL 9.078125 0 \r\nL 9.078125 54.6875 \r\nL 18.109375 54.6875 \r\nL 18.109375 46.1875 \r\nQ 21.34375 51.125 25.703125 53.5625 \r\nQ 30.078125 56 35.796875 56 \r\nQ 45.21875 56 50.046875 50.171875 \r\nQ 54.890625 44.34375 54.890625 33.015625 \r\nz\r\n\" id=\"DejaVuSans-110\"/>\r\n       <path id=\"DejaVuSans-32\"/>\r\n      </defs>\r\n      <use xlink:href=\"#DejaVuSans-86\"/>\r\n      <use x=\"60.658203\" xlink:href=\"#DejaVuSans-97\"/>\r\n      <use x=\"121.9375\" xlink:href=\"#DejaVuSans-108\"/>\r\n      <use x=\"149.720703\" xlink:href=\"#DejaVuSans-105\"/>\r\n      <use x=\"177.503906\" xlink:href=\"#DejaVuSans-100\"/>\r\n      <use x=\"240.980469\" xlink:href=\"#DejaVuSans-97\"/>\r\n      <use x=\"302.259766\" xlink:href=\"#DejaVuSans-116\"/>\r\n      <use x=\"341.46875\" xlink:href=\"#DejaVuSans-105\"/>\r\n      <use x=\"369.251953\" xlink:href=\"#DejaVuSans-111\"/>\r\n      <use x=\"430.433594\" xlink:href=\"#DejaVuSans-110\"/>\r\n      <use x=\"493.8125\" xlink:href=\"#DejaVuSans-32\"/>\r\n      <use x=\"525.599609\" xlink:href=\"#DejaVuSans-65\"/>\r\n      <use x=\"592.257812\" xlink:href=\"#DejaVuSans-99\"/>\r\n      <use x=\"647.238281\" xlink:href=\"#DejaVuSans-99\"/>\r\n      <use x=\"702.21875\" xlink:href=\"#DejaVuSans-117\"/>\r\n      <use x=\"765.597656\" xlink:href=\"#DejaVuSans-114\"/>\r\n      <use x=\"806.710938\" xlink:href=\"#DejaVuSans-97\"/>\r\n      <use x=\"867.990234\" xlink:href=\"#DejaVuSans-99\"/>\r\n      <use x=\"922.970703\" xlink:href=\"#DejaVuSans-121\"/>\r\n     </g>\r\n    </g>\r\n   </g>\r\n  </g>\r\n </g>\r\n <defs>\r\n  <clipPath id=\"p03a1b63ca7\">\r\n   <rect height=\"163.08\" width=\"355.090909\" x=\"43.78125\" y=\"10.999219\"/>\r\n  </clipPath>\r\n  <clipPath id=\"p0f2bd19506\">\r\n   <rect height=\"163.08\" width=\"355.090909\" x=\"469.890341\" y=\"10.999219\"/>\r\n  </clipPath>\r\n </defs>\r\n</svg>\r\n",
      "image/png": "[encoded data removed]"
     },
     "metadata": {
      "needs_background": "light"
     }
    }
   ],
   "source": [
    "hist = pd.DataFrame(history.history)\n",
    "hist['epoch'] = history.epoch\n",
    "hist\n",
    "plot_history(hist)"
   ]
  },
  {
   "cell_type": "code",
   "execution_count": 102,
   "metadata": {},
   "outputs": [],
   "source": [
    "clear_session()"
   ]
  },
  {
   "cell_type": "code",
   "execution_count": 110,
   "metadata": {},
   "outputs": [
    {
     "output_type": "execute_result",
     "data": {
      "text/plain": [
       "1728"
      ]
     },
     "metadata": {},
     "execution_count": 110
    }
   ],
   "source": [
    "X_train.shape[1]"
   ]
  },
  {
   "cell_type": "code",
   "execution_count": null,
   "metadata": {},
   "outputs": [],
   "source": []
  }
 ]
}